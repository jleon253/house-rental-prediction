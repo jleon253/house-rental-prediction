{
 "cells": [
  {
   "cell_type": "markdown",
   "metadata": {},
   "source": [
    "[![Open In Colab](https://colab.research.google.com/assets/colab-badge.svg)](https://colab.research.google.com/github/jleon253/house-rental-prediction/blob/main/house_prediction_WKMC_ANN.ipynb)"
   ]
  },
  {
   "cell_type": "markdown",
   "metadata": {},
   "source": [
    "## Importación de librerias"
   ]
  },
  {
   "cell_type": "code",
   "execution_count": 1,
   "metadata": {},
   "outputs": [],
   "source": [
    "import pandas as pd;\n",
    "import numpy as np\n",
    "import matplotlib.pyplot as plt\n",
    "import seaborn as sns\n",
    "\n",
    "from sklearn.preprocessing import LabelEncoder\n",
    "\n",
    "from sklearn.cluster import KMeans\n",
    "from sklearn.preprocessing import StandardScaler"
   ]
  },
  {
   "cell_type": "markdown",
   "metadata": {},
   "source": [
    "## Colección de datos"
   ]
  },
  {
   "cell_type": "code",
   "execution_count": 2,
   "metadata": {},
   "outputs": [],
   "source": [
    "url_data = 'https://raw.githubusercontent.com/jleon253/house-rental-prediction/main/data/housing_1.csv';\n",
    "# url_data = 'housing_1.csv';\n",
    "df_init = pd.read_csv(url_data);"
   ]
  },
  {
   "cell_type": "code",
   "execution_count": 3,
   "metadata": {},
   "outputs": [
    {
     "data": {
      "text/html": [
       "<div>\n",
       "<style scoped>\n",
       "    .dataframe tbody tr th:only-of-type {\n",
       "        vertical-align: middle;\n",
       "    }\n",
       "\n",
       "    .dataframe tbody tr th {\n",
       "        vertical-align: top;\n",
       "    }\n",
       "\n",
       "    .dataframe thead th {\n",
       "        text-align: right;\n",
       "    }\n",
       "</style>\n",
       "<table border=\"1\" class=\"dataframe\">\n",
       "  <thead>\n",
       "    <tr style=\"text-align: right;\">\n",
       "      <th></th>\n",
       "      <th>Posted On</th>\n",
       "      <th>BHK</th>\n",
       "      <th>Rent</th>\n",
       "      <th>Size</th>\n",
       "      <th>Floor</th>\n",
       "      <th>Area Type</th>\n",
       "      <th>Area Locality</th>\n",
       "      <th>City</th>\n",
       "      <th>Furnishing Status</th>\n",
       "      <th>Tenant Preferred</th>\n",
       "      <th>Bathroom</th>\n",
       "      <th>Point of Contact</th>\n",
       "    </tr>\n",
       "  </thead>\n",
       "  <tbody>\n",
       "    <tr>\n",
       "      <th>480</th>\n",
       "      <td>2022-06-26</td>\n",
       "      <td>2</td>\n",
       "      <td>10000</td>\n",
       "      <td>800</td>\n",
       "      <td>Ground out of 3</td>\n",
       "      <td>Carpet Area</td>\n",
       "      <td>Garia</td>\n",
       "      <td>Kolkata</td>\n",
       "      <td>Unfurnished</td>\n",
       "      <td>Bachelors</td>\n",
       "      <td>2</td>\n",
       "      <td>Contact Owner</td>\n",
       "    </tr>\n",
       "    <tr>\n",
       "      <th>4018</th>\n",
       "      <td>2022-07-06</td>\n",
       "      <td>3</td>\n",
       "      <td>38000</td>\n",
       "      <td>1496</td>\n",
       "      <td>10 out of 15</td>\n",
       "      <td>Carpet Area</td>\n",
       "      <td>Kondapur</td>\n",
       "      <td>Hyderabad</td>\n",
       "      <td>Semi-Furnished</td>\n",
       "      <td>Bachelors</td>\n",
       "      <td>2</td>\n",
       "      <td>Contact Agent</td>\n",
       "    </tr>\n",
       "    <tr>\n",
       "      <th>2244</th>\n",
       "      <td>2022-06-30</td>\n",
       "      <td>2</td>\n",
       "      <td>13500</td>\n",
       "      <td>650</td>\n",
       "      <td>2 out of 3</td>\n",
       "      <td>Carpet Area</td>\n",
       "      <td>Vijayanagar</td>\n",
       "      <td>Bangalore</td>\n",
       "      <td>Unfurnished</td>\n",
       "      <td>Family</td>\n",
       "      <td>2</td>\n",
       "      <td>Contact Owner</td>\n",
       "    </tr>\n",
       "    <tr>\n",
       "      <th>3671</th>\n",
       "      <td>2022-06-03</td>\n",
       "      <td>1</td>\n",
       "      <td>13500</td>\n",
       "      <td>450</td>\n",
       "      <td>3 out of 4</td>\n",
       "      <td>Carpet Area</td>\n",
       "      <td>Kodambakkam</td>\n",
       "      <td>Chennai</td>\n",
       "      <td>Unfurnished</td>\n",
       "      <td>Bachelors</td>\n",
       "      <td>1</td>\n",
       "      <td>Contact Owner</td>\n",
       "    </tr>\n",
       "    <tr>\n",
       "      <th>3700</th>\n",
       "      <td>2022-06-10</td>\n",
       "      <td>1</td>\n",
       "      <td>5000</td>\n",
       "      <td>450</td>\n",
       "      <td>Ground out of 1</td>\n",
       "      <td>Super Area</td>\n",
       "      <td>Thirumullaivoyal</td>\n",
       "      <td>Chennai</td>\n",
       "      <td>Unfurnished</td>\n",
       "      <td>Bachelors/Family</td>\n",
       "      <td>1</td>\n",
       "      <td>Contact Owner</td>\n",
       "    </tr>\n",
       "  </tbody>\n",
       "</table>\n",
       "</div>"
      ],
      "text/plain": [
       "       Posted On  BHK   Rent  Size            Floor    Area Type  \\\n",
       "480   2022-06-26    2  10000   800  Ground out of 3  Carpet Area   \n",
       "4018  2022-07-06    3  38000  1496     10 out of 15  Carpet Area   \n",
       "2244  2022-06-30    2  13500   650       2 out of 3  Carpet Area   \n",
       "3671  2022-06-03    1  13500   450       3 out of 4  Carpet Area   \n",
       "3700  2022-06-10    1   5000   450  Ground out of 1   Super Area   \n",
       "\n",
       "         Area Locality       City Furnishing Status  Tenant Preferred  \\\n",
       "480              Garia    Kolkata       Unfurnished         Bachelors   \n",
       "4018          Kondapur  Hyderabad    Semi-Furnished         Bachelors   \n",
       "2244       Vijayanagar  Bangalore       Unfurnished            Family   \n",
       "3671       Kodambakkam    Chennai       Unfurnished         Bachelors   \n",
       "3700  Thirumullaivoyal    Chennai       Unfurnished  Bachelors/Family   \n",
       "\n",
       "      Bathroom Point of Contact  \n",
       "480          2    Contact Owner  \n",
       "4018         2    Contact Agent  \n",
       "2244         2    Contact Owner  \n",
       "3671         1    Contact Owner  \n",
       "3700         1    Contact Owner  "
      ]
     },
     "execution_count": 3,
     "metadata": {},
     "output_type": "execute_result"
    }
   ],
   "source": [
    "ds = df_init.sample(5)\n",
    "ds"
   ]
  },
  {
   "cell_type": "code",
   "execution_count": 4,
   "metadata": {},
   "outputs": [
    {
     "data": {
      "text/plain": [
       "(4728, 12)"
      ]
     },
     "execution_count": 4,
     "metadata": {},
     "output_type": "execute_result"
    }
   ],
   "source": [
    "df_init.shape"
   ]
  },
  {
   "cell_type": "markdown",
   "metadata": {},
   "source": [
    "# Preprocesamiento"
   ]
  },
  {
   "cell_type": "markdown",
   "metadata": {},
   "source": [
    "## Exploración y limpieza de datos"
   ]
  },
  {
   "cell_type": "code",
   "execution_count": 5,
   "metadata": {},
   "outputs": [
    {
     "data": {
      "text/plain": [
       "Posted On            0\n",
       "BHK                  0\n",
       "Rent                 0\n",
       "Size                 0\n",
       "Floor                0\n",
       "Area Type            0\n",
       "Area Locality        0\n",
       "City                 0\n",
       "Furnishing Status    0\n",
       "Tenant Preferred     0\n",
       "Bathroom             0\n",
       "Point of Contact     0\n",
       "dtype: int64"
      ]
     },
     "execution_count": 5,
     "metadata": {},
     "output_type": "execute_result"
    }
   ],
   "source": [
    "# Revisión de valores NaN o desconocidos\n",
    "df_init.isna().sum()"
   ]
  },
  {
   "cell_type": "code",
   "execution_count": 6,
   "metadata": {},
   "outputs": [
    {
     "data": {
      "text/plain": [
       "Posted On            0\n",
       "BHK                  0\n",
       "Rent                 0\n",
       "Size                 0\n",
       "Floor                0\n",
       "Area Type            0\n",
       "Area Locality        0\n",
       "City                 0\n",
       "Furnishing Status    0\n",
       "Tenant Preferred     0\n",
       "Bathroom             0\n",
       "Point of Contact     0\n",
       "dtype: int64"
      ]
     },
     "execution_count": 6,
     "metadata": {},
     "output_type": "execute_result"
    }
   ],
   "source": [
    "# Revisión de valores nulos\n",
    "df_init.isnull().sum()"
   ]
  },
  {
   "cell_type": "code",
   "execution_count": 7,
   "metadata": {},
   "outputs": [
    {
     "data": {
      "text/plain": [
       "0"
      ]
     },
     "execution_count": 7,
     "metadata": {},
     "output_type": "execute_result"
    }
   ],
   "source": [
    "# Revisión de valores duplicados\n",
    "df_init.duplicated().sum()"
   ]
  },
  {
   "cell_type": "code",
   "execution_count": 8,
   "metadata": {},
   "outputs": [
    {
     "name": "stdout",
     "output_type": "stream",
     "text": [
      "<class 'pandas.core.frame.DataFrame'>\n",
      "RangeIndex: 4728 entries, 0 to 4727\n",
      "Data columns (total 12 columns):\n",
      " #   Column             Non-Null Count  Dtype \n",
      "---  ------             --------------  ----- \n",
      " 0   Posted On          4728 non-null   object\n",
      " 1   BHK                4728 non-null   int64 \n",
      " 2   Rent               4728 non-null   int64 \n",
      " 3   Size               4728 non-null   int64 \n",
      " 4   Floor              4728 non-null   object\n",
      " 5   Area Type          4728 non-null   object\n",
      " 6   Area Locality      4728 non-null   object\n",
      " 7   City               4728 non-null   object\n",
      " 8   Furnishing Status  4728 non-null   object\n",
      " 9   Tenant Preferred   4728 non-null   object\n",
      " 10  Bathroom           4728 non-null   int64 \n",
      " 11  Point of Contact   4728 non-null   object\n",
      "dtypes: int64(4), object(8)\n",
      "memory usage: 443.4+ KB\n"
     ]
    }
   ],
   "source": [
    "df_init.info()"
   ]
  },
  {
   "cell_type": "markdown",
   "metadata": {},
   "source": [
    "## Explorando relacion entre variables"
   ]
  },
  {
   "cell_type": "code",
   "execution_count": 9,
   "metadata": {},
   "outputs": [
    {
     "data": {
      "image/png": "[encoded data removed]",
      "text/plain": [
       "<Figure size 640x480 with 1 Axes>"
      ]
     },
     "metadata": {},
     "output_type": "display_data"
    }
   ],
   "source": [
    "# Tendencias entre las varables explicativas y la variable objetivo\n",
    "sns.scatterplot(data=df_init, x='Size', y='Rent')\n",
    "plt.title('Relación entre Size y Rent')\n",
    "plt.show()"
   ]
  },
  {
   "cell_type": "code",
   "execution_count": 10,
   "metadata": {},
   "outputs": [
    {
     "data": {
      "text/html": [
       "<div>\n",
       "<style scoped>\n",
       "    .dataframe tbody tr th:only-of-type {\n",
       "        vertical-align: middle;\n",
       "    }\n",
       "\n",
       "    .dataframe tbody tr th {\n",
       "        vertical-align: top;\n",
       "    }\n",
       "\n",
       "    .dataframe thead th {\n",
       "        text-align: right;\n",
       "    }\n",
       "</style>\n",
       "<table border=\"1\" class=\"dataframe\">\n",
       "  <thead>\n",
       "    <tr style=\"text-align: right;\">\n",
       "      <th></th>\n",
       "      <th>Posted On</th>\n",
       "      <th>BHK</th>\n",
       "      <th>Rent</th>\n",
       "      <th>Size</th>\n",
       "      <th>Floor</th>\n",
       "      <th>Area Type</th>\n",
       "      <th>Area Locality</th>\n",
       "      <th>City</th>\n",
       "      <th>Furnishing Status</th>\n",
       "      <th>Tenant Preferred</th>\n",
       "      <th>Bathroom</th>\n",
       "      <th>Point of Contact</th>\n",
       "    </tr>\n",
       "  </thead>\n",
       "  <tbody>\n",
       "    <tr>\n",
       "      <th>1837</th>\n",
       "      <td>2022-06-08</td>\n",
       "      <td>3</td>\n",
       "      <td>3500000</td>\n",
       "      <td>2500</td>\n",
       "      <td>4 out of 4</td>\n",
       "      <td>Carpet Area</td>\n",
       "      <td>Marathahalli</td>\n",
       "      <td>Bangalore</td>\n",
       "      <td>Semi-Furnished</td>\n",
       "      <td>Bachelors</td>\n",
       "      <td>3</td>\n",
       "      <td>Contact Agent</td>\n",
       "    </tr>\n",
       "  </tbody>\n",
       "</table>\n",
       "</div>"
      ],
      "text/plain": [
       "       Posted On  BHK     Rent  Size       Floor    Area Type Area Locality  \\\n",
       "1837  2022-06-08    3  3500000  2500  4 out of 4  Carpet Area  Marathahalli   \n",
       "\n",
       "           City Furnishing Status Tenant Preferred  Bathroom Point of Contact  \n",
       "1837  Bangalore    Semi-Furnished        Bachelors         3    Contact Agent  "
      ]
     },
     "execution_count": 10,
     "metadata": {},
     "output_type": "execute_result"
    }
   ],
   "source": [
    "# Registro con el alquiler más alto\n",
    "rent_high = df_init.query('Rent == 3.5e+06')\n",
    "rent_high"
   ]
  },
  {
   "cell_type": "code",
   "execution_count": 11,
   "metadata": {},
   "outputs": [
    {
     "data": {
      "image/png": "[encoded data removed]",
      "text/plain": [
       "<Figure size 640x480 with 1 Axes>"
      ]
     },
     "metadata": {},
     "output_type": "display_data"
    }
   ],
   "source": [
    "# Tendencias entre las varables explicativas y la variable objetivo\n",
    "sns.scatterplot(data=df_init, x='BHK', y='Rent')\n",
    "plt.title('Relación entre BHK y Rent')\n",
    "plt.show()"
   ]
  },
  {
   "cell_type": "code",
   "execution_count": 12,
   "metadata": {},
   "outputs": [
    {
     "data": {
      "image/png": "[encoded data removed]",
      "text/plain": [
       "<Figure size 640x480 with 1 Axes>"
      ]
     },
     "metadata": {},
     "output_type": "display_data"
    }
   ],
   "source": [
    "# Tendencias entre las varables explicativas y la variable objetivo\n",
    "sns.scatterplot(data=df_init, x='Bathroom', y='Rent')\n",
    "plt.title('Relación entre Bathroom y Rent')\n",
    "plt.show()"
   ]
  },
  {
   "cell_type": "markdown",
   "metadata": {},
   "source": [
    "## Codificación categoríca en numerica"
   ]
  },
  {
   "cell_type": "markdown",
   "metadata": {},
   "source": [
    "Dado que las demas columnas son categoricas, se deben convertir en númericas para un modelado eficiente."
   ]
  },
  {
   "cell_type": "code",
   "execution_count": 13,
   "metadata": {},
   "outputs": [],
   "source": [
    "# Se listan las columnas categoricas\n",
    "category_columns = [\n",
    "  'Floor',\n",
    "  'Area Type',\n",
    "  'Area Locality',\n",
    "  'City',\n",
    "  'Furnishing Status',\n",
    "  'Tenant Preferred',\n",
    "  'Point of Contact'\n",
    "];"
   ]
  },
  {
   "cell_type": "code",
   "execution_count": 14,
   "metadata": {},
   "outputs": [
    {
     "name": "stdout",
     "output_type": "stream",
     "text": [
      "Floor\n",
      "1 out of 2                  379\n",
      "Ground out of 2             349\n",
      "2 out of 3                  312\n",
      "2 out of 4                  307\n",
      "1 out of 3                  293\n",
      "                           ... \n",
      "Upper Basement out of 40      1\n",
      "10 out of 37                  1\n",
      "25 out of 48                  1\n",
      "Upper Basement out of 20      1\n",
      "12 out of 30                  1\n",
      "Name: count, Length: 479, dtype: int64\n",
      "Area Type\n",
      "Super Area     2437\n",
      "Carpet Area    2289\n",
      "Built Area        2\n",
      "Name: count, dtype: int64\n",
      "Area Locality\n",
      "Bandra West                                           37\n",
      "Gachibowli                                            27\n",
      "Electronic City                                       24\n",
      "Velachery                                             22\n",
      "Miyapur, NH 9                                         21\n",
      "                                                      ..\n",
      "Charkop Sector 6                                       1\n",
      "Hiranandani Gardens Odyssey I, Hiranandani Gardens     1\n",
      "in Mahim West                                          1\n",
      "Omkar Meridia, Bandra Kurla Complex                    1\n",
      "Netaji Nagar Colony, Langar Houz                       1\n",
      "Name: count, Length: 2229, dtype: int64\n",
      "City\n",
      "Mumbai       972\n",
      "Chennai      891\n",
      "Bangalore    886\n",
      "Hyderabad    850\n",
      "Delhi        605\n",
      "Kolkata      524\n",
      "Name: count, dtype: int64\n",
      "Furnishing Status\n",
      "Semi-Furnished    2243\n",
      "Unfurnished       1807\n",
      "Furnished          678\n",
      "Name: count, dtype: int64\n",
      "Tenant Preferred\n",
      "Bachelors/Family    3435\n",
      "Bachelors            826\n",
      "Family               467\n",
      "Name: count, dtype: int64\n",
      "Point of Contact\n",
      "Contact Owner      3202\n",
      "Contact Agent      1525\n",
      "Contact Builder       1\n",
      "Name: count, dtype: int64\n"
     ]
    }
   ],
   "source": [
    "# Se muestran la cantidad de datos categoricos existentes en el dataset\n",
    "for col in category_columns:\n",
    "  print(df_init[col].value_counts())"
   ]
  },
  {
   "cell_type": "code",
   "execution_count": 15,
   "metadata": {},
   "outputs": [
    {
     "data": {
      "text/html": [
       "<div>\n",
       "<style scoped>\n",
       "    .dataframe tbody tr th:only-of-type {\n",
       "        vertical-align: middle;\n",
       "    }\n",
       "\n",
       "    .dataframe tbody tr th {\n",
       "        vertical-align: top;\n",
       "    }\n",
       "\n",
       "    .dataframe thead th {\n",
       "        text-align: right;\n",
       "    }\n",
       "</style>\n",
       "<table border=\"1\" class=\"dataframe\">\n",
       "  <thead>\n",
       "    <tr style=\"text-align: right;\">\n",
       "      <th></th>\n",
       "      <th>BHK</th>\n",
       "      <th>Rent</th>\n",
       "      <th>Size</th>\n",
       "      <th>Floor</th>\n",
       "      <th>Area Type</th>\n",
       "      <th>Area Locality</th>\n",
       "      <th>City</th>\n",
       "      <th>Furnishing Status</th>\n",
       "      <th>Tenant Preferred</th>\n",
       "      <th>Bathroom</th>\n",
       "      <th>Point of Contact</th>\n",
       "    </tr>\n",
       "  </thead>\n",
       "  <tbody>\n",
       "    <tr>\n",
       "      <th>0</th>\n",
       "      <td>2</td>\n",
       "      <td>10000</td>\n",
       "      <td>1100</td>\n",
       "      <td>454</td>\n",
       "      <td>2</td>\n",
       "      <td>220</td>\n",
       "      <td>4</td>\n",
       "      <td>2</td>\n",
       "      <td>1</td>\n",
       "      <td>2</td>\n",
       "      <td>2</td>\n",
       "    </tr>\n",
       "    <tr>\n",
       "      <th>1</th>\n",
       "      <td>2</td>\n",
       "      <td>20000</td>\n",
       "      <td>800</td>\n",
       "      <td>14</td>\n",
       "      <td>2</td>\n",
       "      <td>1523</td>\n",
       "      <td>4</td>\n",
       "      <td>1</td>\n",
       "      <td>1</td>\n",
       "      <td>1</td>\n",
       "      <td>2</td>\n",
       "    </tr>\n",
       "    <tr>\n",
       "      <th>2</th>\n",
       "      <td>2</td>\n",
       "      <td>17000</td>\n",
       "      <td>1000</td>\n",
       "      <td>14</td>\n",
       "      <td>2</td>\n",
       "      <td>1755</td>\n",
       "      <td>4</td>\n",
       "      <td>1</td>\n",
       "      <td>1</td>\n",
       "      <td>1</td>\n",
       "      <td>2</td>\n",
       "    </tr>\n",
       "    <tr>\n",
       "      <th>3</th>\n",
       "      <td>2</td>\n",
       "      <td>10000</td>\n",
       "      <td>800</td>\n",
       "      <td>10</td>\n",
       "      <td>2</td>\n",
       "      <td>525</td>\n",
       "      <td>4</td>\n",
       "      <td>2</td>\n",
       "      <td>1</td>\n",
       "      <td>1</td>\n",
       "      <td>2</td>\n",
       "    </tr>\n",
       "    <tr>\n",
       "      <th>4</th>\n",
       "      <td>2</td>\n",
       "      <td>7500</td>\n",
       "      <td>850</td>\n",
       "      <td>10</td>\n",
       "      <td>1</td>\n",
       "      <td>1885</td>\n",
       "      <td>4</td>\n",
       "      <td>2</td>\n",
       "      <td>0</td>\n",
       "      <td>1</td>\n",
       "      <td>2</td>\n",
       "    </tr>\n",
       "    <tr>\n",
       "      <th>...</th>\n",
       "      <td>...</td>\n",
       "      <td>...</td>\n",
       "      <td>...</td>\n",
       "      <td>...</td>\n",
       "      <td>...</td>\n",
       "      <td>...</td>\n",
       "      <td>...</td>\n",
       "      <td>...</td>\n",
       "      <td>...</td>\n",
       "      <td>...</td>\n",
       "      <td>...</td>\n",
       "    </tr>\n",
       "    <tr>\n",
       "      <th>4723</th>\n",
       "      <td>2</td>\n",
       "      <td>17000</td>\n",
       "      <td>840</td>\n",
       "      <td>270</td>\n",
       "      <td>2</td>\n",
       "      <td>317</td>\n",
       "      <td>3</td>\n",
       "      <td>0</td>\n",
       "      <td>1</td>\n",
       "      <td>2</td>\n",
       "      <td>2</td>\n",
       "    </tr>\n",
       "    <tr>\n",
       "      <th>4724</th>\n",
       "      <td>2</td>\n",
       "      <td>15000</td>\n",
       "      <td>600</td>\n",
       "      <td>192</td>\n",
       "      <td>1</td>\n",
       "      <td>1333</td>\n",
       "      <td>3</td>\n",
       "      <td>2</td>\n",
       "      <td>0</td>\n",
       "      <td>1</td>\n",
       "      <td>2</td>\n",
       "    </tr>\n",
       "    <tr>\n",
       "      <th>4725</th>\n",
       "      <td>1</td>\n",
       "      <td>9000</td>\n",
       "      <td>650</td>\n",
       "      <td>14</td>\n",
       "      <td>2</td>\n",
       "      <td>247</td>\n",
       "      <td>3</td>\n",
       "      <td>0</td>\n",
       "      <td>1</td>\n",
       "      <td>1</td>\n",
       "      <td>0</td>\n",
       "    </tr>\n",
       "    <tr>\n",
       "      <th>4726</th>\n",
       "      <td>2</td>\n",
       "      <td>16000</td>\n",
       "      <td>1100</td>\n",
       "      <td>200</td>\n",
       "      <td>2</td>\n",
       "      <td>247</td>\n",
       "      <td>3</td>\n",
       "      <td>0</td>\n",
       "      <td>2</td>\n",
       "      <td>2</td>\n",
       "      <td>0</td>\n",
       "    </tr>\n",
       "    <tr>\n",
       "      <th>4727</th>\n",
       "      <td>3</td>\n",
       "      <td>30000</td>\n",
       "      <td>214</td>\n",
       "      <td>192</td>\n",
       "      <td>2</td>\n",
       "      <td>865</td>\n",
       "      <td>3</td>\n",
       "      <td>0</td>\n",
       "      <td>0</td>\n",
       "      <td>4</td>\n",
       "      <td>2</td>\n",
       "    </tr>\n",
       "  </tbody>\n",
       "</table>\n",
       "<p>4728 rows × 11 columns</p>\n",
       "</div>"
      ],
      "text/plain": [
       "      BHK   Rent  Size  Floor  Area Type  Area Locality  City  \\\n",
       "0       2  10000  1100    454          2            220     4   \n",
       "1       2  20000   800     14          2           1523     4   \n",
       "2       2  17000  1000     14          2           1755     4   \n",
       "3       2  10000   800     10          2            525     4   \n",
       "4       2   7500   850     10          1           1885     4   \n",
       "...   ...    ...   ...    ...        ...            ...   ...   \n",
       "4723    2  17000   840    270          2            317     3   \n",
       "4724    2  15000   600    192          1           1333     3   \n",
       "4725    1   9000   650     14          2            247     3   \n",
       "4726    2  16000  1100    200          2            247     3   \n",
       "4727    3  30000   214    192          2            865     3   \n",
       "\n",
       "      Furnishing Status  Tenant Preferred  Bathroom  Point of Contact  \n",
       "0                     2                 1         2                 2  \n",
       "1                     1                 1         1                 2  \n",
       "2                     1                 1         1                 2  \n",
       "3                     2                 1         1                 2  \n",
       "4                     2                 0         1                 2  \n",
       "...                 ...               ...       ...               ...  \n",
       "4723                  0                 1         2                 2  \n",
       "4724                  2                 0         1                 2  \n",
       "4725                  0                 1         1                 0  \n",
       "4726                  0                 2         2                 0  \n",
       "4727                  0                 0         4                 2  \n",
       "\n",
       "[4728 rows x 11 columns]"
      ]
     },
     "execution_count": 15,
     "metadata": {},
     "output_type": "execute_result"
    }
   ],
   "source": [
    "# Codificando valores categoricos en númericos\n",
    "le = LabelEncoder()\n",
    "\n",
    "df_numerical = df_init\n",
    "# Se retira la columna, dado que el tipo fecha no se puede convertir en float para ser leido por la grafica\n",
    "del df_numerical['Posted On']\n",
    "\n",
    "for category_col in category_columns:\n",
    "  df_numerical[category_col] = le.fit_transform(df_numerical[category_col])\n",
    "\n",
    "df_numerical"
   ]
  },
  {
   "cell_type": "code",
   "execution_count": 16,
   "metadata": {},
   "outputs": [
    {
     "name": "stdout",
     "output_type": "stream",
     "text": [
      "<class 'pandas.core.frame.DataFrame'>\n",
      "RangeIndex: 4728 entries, 0 to 4727\n",
      "Data columns (total 11 columns):\n",
      " #   Column             Non-Null Count  Dtype\n",
      "---  ------             --------------  -----\n",
      " 0   BHK                4728 non-null   int64\n",
      " 1   Rent               4728 non-null   int64\n",
      " 2   Size               4728 non-null   int64\n",
      " 3   Floor              4728 non-null   int64\n",
      " 4   Area Type          4728 non-null   int64\n",
      " 5   Area Locality      4728 non-null   int64\n",
      " 6   City               4728 non-null   int64\n",
      " 7   Furnishing Status  4728 non-null   int64\n",
      " 8   Tenant Preferred   4728 non-null   int64\n",
      " 9   Bathroom           4728 non-null   int64\n",
      " 10  Point of Contact   4728 non-null   int64\n",
      "dtypes: int64(11)\n",
      "memory usage: 406.4 KB\n"
     ]
    }
   ],
   "source": [
    "# Dataset númerico\n",
    "df_numerical.info()"
   ]
  },
  {
   "cell_type": "code",
   "execution_count": 17,
   "metadata": {},
   "outputs": [
    {
     "name": "stdout",
     "output_type": "stream",
     "text": [
      "Floor\n",
      "10     379\n",
      "454    349\n",
      "196    312\n",
      "198    307\n",
      "14     293\n",
      "      ... \n",
      "475      1\n",
      "39       1\n",
      "240      1\n",
      "470      1\n",
      "75       1\n",
      "Name: count, Length: 479, dtype: int64\n",
      "Area Type\n",
      "2    2437\n",
      "1    2289\n",
      "0       2\n",
      "Name: count, dtype: int64\n",
      "Area Locality\n",
      "224     37\n",
      "589     27\n",
      "558     24\n",
      "2066    22\n",
      "1266    21\n",
      "        ..\n",
      "383      1\n",
      "730      1\n",
      "2181     1\n",
      "1443     1\n",
      "1375     1\n",
      "Name: count, Length: 2229, dtype: int64\n",
      "City\n",
      "5    972\n",
      "1    891\n",
      "0    886\n",
      "3    850\n",
      "2    605\n",
      "4    524\n",
      "Name: count, dtype: int64\n",
      "Furnishing Status\n",
      "1    2243\n",
      "2    1807\n",
      "0     678\n",
      "Name: count, dtype: int64\n",
      "Tenant Preferred\n",
      "1    3435\n",
      "0     826\n",
      "2     467\n",
      "Name: count, dtype: int64\n",
      "Point of Contact\n",
      "2    3202\n",
      "0    1525\n",
      "1       1\n",
      "Name: count, dtype: int64\n"
     ]
    }
   ],
   "source": [
    "# Se muestran la cantidad de datos convertidos a númericos que coinciden con los categoricos existentes en el dataset\n",
    "for c in category_columns:\n",
    "  print(df_numerical[c].value_counts())"
   ]
  },
  {
   "cell_type": "markdown",
   "metadata": {},
   "source": [
    "## Buscando correlación"
   ]
  },
  {
   "cell_type": "code",
   "execution_count": 18,
   "metadata": {},
   "outputs": [
    {
     "data": {
      "image/png": "[encoded data removed]",
      "text/plain": [
       "<Figure size 1600x600 with 2 Axes>"
      ]
     },
     "metadata": {},
     "output_type": "display_data"
    }
   ],
   "source": [
    "# Se visualiza en un mapa de calor, la correlación entre las caracteristicas\n",
    "plt.figure(figsize=(16,6))\n",
    "sns.heatmap(df_numerical.corr(), annot=True)\n",
    "plt.title('Correlación entre las caracteristicas')\n",
    "plt.show()"
   ]
  },
  {
   "cell_type": "markdown",
   "metadata": {},
   "source": [
    "# K-means Clustering"
   ]
  },
  {
   "cell_type": "markdown",
   "metadata": {},
   "source": [
    "## Relación entre variables"
   ]
  },
  {
   "cell_type": "code",
   "execution_count": 19,
   "metadata": {},
   "outputs": [
    {
     "data": {
      "image/png": "[encoded data removed]",
      "text/plain": [
       "<Figure size 640x480 with 1 Axes>"
      ]
     },
     "metadata": {},
     "output_type": "display_data"
    }
   ],
   "source": [
    "# Tendencias entre las varables explicativas y la variable objetivo\n",
    "sns.scatterplot(data=df_init, x='Size', y='Rent')\n",
    "plt.title('Relación entre Size y Rent')\n",
    "plt.show()"
   ]
  },
  {
   "cell_type": "markdown",
   "metadata": {},
   "source": [
    "## Implementando agrupación de k-means clustering"
   ]
  },
  {
   "cell_type": "markdown",
   "metadata": {},
   "source": [
    "### Estandarizadando los datos a la misma magnitud"
   ]
  },
  {
   "cell_type": "code",
   "execution_count": 20,
   "metadata": {},
   "outputs": [
    {
     "data": {
      "text/html": [
       "<div>\n",
       "<style scoped>\n",
       "    .dataframe tbody tr th:only-of-type {\n",
       "        vertical-align: middle;\n",
       "    }\n",
       "\n",
       "    .dataframe tbody tr th {\n",
       "        vertical-align: top;\n",
       "    }\n",
       "\n",
       "    .dataframe thead th {\n",
       "        text-align: right;\n",
       "    }\n",
       "</style>\n",
       "<table border=\"1\" class=\"dataframe\">\n",
       "  <thead>\n",
       "    <tr style=\"text-align: right;\">\n",
       "      <th></th>\n",
       "      <th>BHK</th>\n",
       "      <th>Rent</th>\n",
       "      <th>Size</th>\n",
       "      <th>Floor</th>\n",
       "      <th>Area Type</th>\n",
       "      <th>Area Locality</th>\n",
       "      <th>City</th>\n",
       "      <th>Furnishing Status</th>\n",
       "      <th>Tenant Preferred</th>\n",
       "      <th>Bathroom</th>\n",
       "      <th>Point of Contact</th>\n",
       "    </tr>\n",
       "  </thead>\n",
       "  <tbody>\n",
       "    <tr>\n",
       "      <th>count</th>\n",
       "      <td>4728.000000</td>\n",
       "      <td>4.728000e+03</td>\n",
       "      <td>4728.000000</td>\n",
       "      <td>4728.000000</td>\n",
       "      <td>4728.000000</td>\n",
       "      <td>4728.000000</td>\n",
       "      <td>4728.000000</td>\n",
       "      <td>4728.000000</td>\n",
       "      <td>4728.000000</td>\n",
       "      <td>4728.000000</td>\n",
       "      <td>4728.000000</td>\n",
       "    </tr>\n",
       "    <tr>\n",
       "      <th>mean</th>\n",
       "      <td>2.082699</td>\n",
       "      <td>3.505223e+04</td>\n",
       "      <td>966.447970</td>\n",
       "      <td>228.963409</td>\n",
       "      <td>1.515017</td>\n",
       "      <td>1089.053934</td>\n",
       "      <td>2.454949</td>\n",
       "      <td>1.238790</td>\n",
       "      <td>0.924069</td>\n",
       "      <td>1.964890</td>\n",
       "      <td>1.354695</td>\n",
       "    </tr>\n",
       "    <tr>\n",
       "      <th>std</th>\n",
       "      <td>0.832829</td>\n",
       "      <td>7.824634e+04</td>\n",
       "      <td>634.710489</td>\n",
       "      <td>162.394722</td>\n",
       "      <td>0.500673</td>\n",
       "      <td>631.418420</td>\n",
       "      <td>1.790273</td>\n",
       "      <td>0.684595</td>\n",
       "      <td>0.517463</td>\n",
       "      <td>0.885223</td>\n",
       "      <td>0.934968</td>\n",
       "    </tr>\n",
       "    <tr>\n",
       "      <th>min</th>\n",
       "      <td>1.000000</td>\n",
       "      <td>1.200000e+03</td>\n",
       "      <td>10.000000</td>\n",
       "      <td>0.000000</td>\n",
       "      <td>0.000000</td>\n",
       "      <td>0.000000</td>\n",
       "      <td>0.000000</td>\n",
       "      <td>0.000000</td>\n",
       "      <td>0.000000</td>\n",
       "      <td>1.000000</td>\n",
       "      <td>0.000000</td>\n",
       "    </tr>\n",
       "    <tr>\n",
       "      <th>25%</th>\n",
       "      <td>2.000000</td>\n",
       "      <td>1.000000e+04</td>\n",
       "      <td>550.000000</td>\n",
       "      <td>26.000000</td>\n",
       "      <td>1.000000</td>\n",
       "      <td>550.000000</td>\n",
       "      <td>1.000000</td>\n",
       "      <td>1.000000</td>\n",
       "      <td>1.000000</td>\n",
       "      <td>1.000000</td>\n",
       "      <td>0.000000</td>\n",
       "    </tr>\n",
       "    <tr>\n",
       "      <th>50%</th>\n",
       "      <td>2.000000</td>\n",
       "      <td>1.600000e+04</td>\n",
       "      <td>850.000000</td>\n",
       "      <td>200.000000</td>\n",
       "      <td>2.000000</td>\n",
       "      <td>1091.500000</td>\n",
       "      <td>2.000000</td>\n",
       "      <td>1.000000</td>\n",
       "      <td>1.000000</td>\n",
       "      <td>2.000000</td>\n",
       "      <td>2.000000</td>\n",
       "    </tr>\n",
       "    <tr>\n",
       "      <th>75%</th>\n",
       "      <td>3.000000</td>\n",
       "      <td>3.300000e+04</td>\n",
       "      <td>1200.000000</td>\n",
       "      <td>370.000000</td>\n",
       "      <td>2.000000</td>\n",
       "      <td>1627.250000</td>\n",
       "      <td>4.000000</td>\n",
       "      <td>2.000000</td>\n",
       "      <td>1.000000</td>\n",
       "      <td>2.000000</td>\n",
       "      <td>2.000000</td>\n",
       "    </tr>\n",
       "    <tr>\n",
       "      <th>max</th>\n",
       "      <td>6.000000</td>\n",
       "      <td>3.500000e+06</td>\n",
       "      <td>8000.000000</td>\n",
       "      <td>478.000000</td>\n",
       "      <td>2.000000</td>\n",
       "      <td>2228.000000</td>\n",
       "      <td>5.000000</td>\n",
       "      <td>2.000000</td>\n",
       "      <td>2.000000</td>\n",
       "      <td>10.000000</td>\n",
       "      <td>2.000000</td>\n",
       "    </tr>\n",
       "  </tbody>\n",
       "</table>\n",
       "</div>"
      ],
      "text/plain": [
       "               BHK          Rent         Size        Floor    Area Type  \\\n",
       "count  4728.000000  4.728000e+03  4728.000000  4728.000000  4728.000000   \n",
       "mean      2.082699  3.505223e+04   966.447970   228.963409     1.515017   \n",
       "std       0.832829  7.824634e+04   634.710489   162.394722     0.500673   \n",
       "min       1.000000  1.200000e+03    10.000000     0.000000     0.000000   \n",
       "25%       2.000000  1.000000e+04   550.000000    26.000000     1.000000   \n",
       "50%       2.000000  1.600000e+04   850.000000   200.000000     2.000000   \n",
       "75%       3.000000  3.300000e+04  1200.000000   370.000000     2.000000   \n",
       "max       6.000000  3.500000e+06  8000.000000   478.000000     2.000000   \n",
       "\n",
       "       Area Locality         City  Furnishing Status  Tenant Preferred  \\\n",
       "count    4728.000000  4728.000000        4728.000000       4728.000000   \n",
       "mean     1089.053934     2.454949           1.238790          0.924069   \n",
       "std       631.418420     1.790273           0.684595          0.517463   \n",
       "min         0.000000     0.000000           0.000000          0.000000   \n",
       "25%       550.000000     1.000000           1.000000          1.000000   \n",
       "50%      1091.500000     2.000000           1.000000          1.000000   \n",
       "75%      1627.250000     4.000000           2.000000          1.000000   \n",
       "max      2228.000000     5.000000           2.000000          2.000000   \n",
       "\n",
       "          Bathroom  Point of Contact  \n",
       "count  4728.000000       4728.000000  \n",
       "mean      1.964890          1.354695  \n",
       "std       0.885223          0.934968  \n",
       "min       1.000000          0.000000  \n",
       "25%       1.000000          0.000000  \n",
       "50%       2.000000          2.000000  \n",
       "75%       2.000000          2.000000  \n",
       "max      10.000000          2.000000  "
      ]
     },
     "execution_count": 20,
     "metadata": {},
     "output_type": "execute_result"
    }
   ],
   "source": [
    "# Estadistica de la data sin estandarizar\n",
    "df_numerical.describe()"
   ]
  },
  {
   "cell_type": "code",
   "execution_count": 21,
   "metadata": {},
   "outputs": [
    {
     "data": {
      "text/html": [
       "<div>\n",
       "<style scoped>\n",
       "    .dataframe tbody tr th:only-of-type {\n",
       "        vertical-align: middle;\n",
       "    }\n",
       "\n",
       "    .dataframe tbody tr th {\n",
       "        vertical-align: top;\n",
       "    }\n",
       "\n",
       "    .dataframe thead th {\n",
       "        text-align: right;\n",
       "    }\n",
       "</style>\n",
       "<table border=\"1\" class=\"dataframe\">\n",
       "  <thead>\n",
       "    <tr style=\"text-align: right;\">\n",
       "      <th></th>\n",
       "      <th>0</th>\n",
       "      <th>1</th>\n",
       "      <th>2</th>\n",
       "      <th>3</th>\n",
       "      <th>4</th>\n",
       "      <th>5</th>\n",
       "      <th>6</th>\n",
       "      <th>7</th>\n",
       "      <th>8</th>\n",
       "      <th>9</th>\n",
       "      <th>10</th>\n",
       "    </tr>\n",
       "  </thead>\n",
       "  <tbody>\n",
       "    <tr>\n",
       "      <th>count</th>\n",
       "      <td>4.728000e+03</td>\n",
       "      <td>4728.000000</td>\n",
       "      <td>4.728000e+03</td>\n",
       "      <td>4728.000000</td>\n",
       "      <td>4.728000e+03</td>\n",
       "      <td>4.728000e+03</td>\n",
       "      <td>4.728000e+03</td>\n",
       "      <td>4.728000e+03</td>\n",
       "      <td>4.728000e+03</td>\n",
       "      <td>4.728000e+03</td>\n",
       "      <td>4728.000000</td>\n",
       "    </tr>\n",
       "    <tr>\n",
       "      <th>mean</th>\n",
       "      <td>-1.382613e-16</td>\n",
       "      <td>0.000000</td>\n",
       "      <td>-3.005680e-17</td>\n",
       "      <td>0.000000</td>\n",
       "      <td>-1.442726e-16</td>\n",
       "      <td>3.606816e-17</td>\n",
       "      <td>-7.213632e-17</td>\n",
       "      <td>-7.814768e-17</td>\n",
       "      <td>9.918744e-17</td>\n",
       "      <td>7.814768e-17</td>\n",
       "      <td>0.000000</td>\n",
       "    </tr>\n",
       "    <tr>\n",
       "      <th>std</th>\n",
       "      <td>1.000106e+00</td>\n",
       "      <td>1.000106</td>\n",
       "      <td>1.000106e+00</td>\n",
       "      <td>1.000106</td>\n",
       "      <td>1.000106e+00</td>\n",
       "      <td>1.000106e+00</td>\n",
       "      <td>1.000106e+00</td>\n",
       "      <td>1.000106e+00</td>\n",
       "      <td>1.000106e+00</td>\n",
       "      <td>1.000106e+00</td>\n",
       "      <td>1.000106</td>\n",
       "    </tr>\n",
       "    <tr>\n",
       "      <th>min</th>\n",
       "      <td>-1.300163e+00</td>\n",
       "      <td>-0.432682</td>\n",
       "      <td>-1.507064e+00</td>\n",
       "      <td>-1.410068</td>\n",
       "      <td>-3.026280e+00</td>\n",
       "      <td>-1.724956e+00</td>\n",
       "      <td>-1.371416e+00</td>\n",
       "      <td>-1.809714e+00</td>\n",
       "      <td>-1.785957e+00</td>\n",
       "      <td>-1.090112e+00</td>\n",
       "      <td>-1.449075</td>\n",
       "    </tr>\n",
       "    <tr>\n",
       "      <th>25%</th>\n",
       "      <td>-9.930921e-02</td>\n",
       "      <td>-0.320205</td>\n",
       "      <td>-6.561921e-01</td>\n",
       "      <td>-1.249947</td>\n",
       "      <td>-1.028758e+00</td>\n",
       "      <td>-8.538093e-01</td>\n",
       "      <td>-8.127827e-01</td>\n",
       "      <td>-3.488418e-01</td>\n",
       "      <td>1.467518e-01</td>\n",
       "      <td>-1.090112e+00</td>\n",
       "      <td>-1.449075</td>\n",
       "    </tr>\n",
       "    <tr>\n",
       "      <th>50%</th>\n",
       "      <td>-9.930921e-02</td>\n",
       "      <td>-0.243516</td>\n",
       "      <td>-1.834857e-01</td>\n",
       "      <td>-0.178371</td>\n",
       "      <td>9.687646e-01</td>\n",
       "      <td>3.874332e-03</td>\n",
       "      <td>-2.541497e-01</td>\n",
       "      <td>-3.488418e-01</td>\n",
       "      <td>1.467518e-01</td>\n",
       "      <td>3.966649e-02</td>\n",
       "      <td>0.690262</td>\n",
       "    </tr>\n",
       "    <tr>\n",
       "      <th>75%</th>\n",
       "      <td>1.101545e+00</td>\n",
       "      <td>-0.026231</td>\n",
       "      <td>3.680052e-01</td>\n",
       "      <td>0.868572</td>\n",
       "      <td>9.687646e-01</td>\n",
       "      <td>8.524506e-01</td>\n",
       "      <td>8.631164e-01</td>\n",
       "      <td>1.112030e+00</td>\n",
       "      <td>1.467518e-01</td>\n",
       "      <td>3.966649e-02</td>\n",
       "      <td>0.690262</td>\n",
       "    </tr>\n",
       "    <tr>\n",
       "      <th>max</th>\n",
       "      <td>4.704107e+00</td>\n",
       "      <td>44.287240</td>\n",
       "      <td>1.108268e+01</td>\n",
       "      <td>1.533689</td>\n",
       "      <td>9.687646e-01</td>\n",
       "      <td>1.803981e+00</td>\n",
       "      <td>1.421749e+00</td>\n",
       "      <td>1.112030e+00</td>\n",
       "      <td>2.079460e+00</td>\n",
       "      <td>9.077892e+00</td>\n",
       "      <td>0.690262</td>\n",
       "    </tr>\n",
       "  </tbody>\n",
       "</table>\n",
       "</div>"
      ],
      "text/plain": [
       "                 0            1             2            3             4   \\\n",
       "count  4.728000e+03  4728.000000  4.728000e+03  4728.000000  4.728000e+03   \n",
       "mean  -1.382613e-16     0.000000 -3.005680e-17     0.000000 -1.442726e-16   \n",
       "std    1.000106e+00     1.000106  1.000106e+00     1.000106  1.000106e+00   \n",
       "min   -1.300163e+00    -0.432682 -1.507064e+00    -1.410068 -3.026280e+00   \n",
       "25%   -9.930921e-02    -0.320205 -6.561921e-01    -1.249947 -1.028758e+00   \n",
       "50%   -9.930921e-02    -0.243516 -1.834857e-01    -0.178371  9.687646e-01   \n",
       "75%    1.101545e+00    -0.026231  3.680052e-01     0.868572  9.687646e-01   \n",
       "max    4.704107e+00    44.287240  1.108268e+01     1.533689  9.687646e-01   \n",
       "\n",
       "                 5             6             7             8             9   \\\n",
       "count  4.728000e+03  4.728000e+03  4.728000e+03  4.728000e+03  4.728000e+03   \n",
       "mean   3.606816e-17 -7.213632e-17 -7.814768e-17  9.918744e-17  7.814768e-17   \n",
       "std    1.000106e+00  1.000106e+00  1.000106e+00  1.000106e+00  1.000106e+00   \n",
       "min   -1.724956e+00 -1.371416e+00 -1.809714e+00 -1.785957e+00 -1.090112e+00   \n",
       "25%   -8.538093e-01 -8.127827e-01 -3.488418e-01  1.467518e-01 -1.090112e+00   \n",
       "50%    3.874332e-03 -2.541497e-01 -3.488418e-01  1.467518e-01  3.966649e-02   \n",
       "75%    8.524506e-01  8.631164e-01  1.112030e+00  1.467518e-01  3.966649e-02   \n",
       "max    1.803981e+00  1.421749e+00  1.112030e+00  2.079460e+00  9.077892e+00   \n",
       "\n",
       "                10  \n",
       "count  4728.000000  \n",
       "mean      0.000000  \n",
       "std       1.000106  \n",
       "min      -1.449075  \n",
       "25%      -1.449075  \n",
       "50%       0.690262  \n",
       "75%       0.690262  \n",
       "max       0.690262  "
      ]
     },
     "execution_count": 21,
     "metadata": {},
     "output_type": "execute_result"
    }
   ],
   "source": [
    "# Llevando las variables a la misma magnitud\n",
    "scaler = StandardScaler()\n",
    "df_scaled = scaler.fit_transform(df_numerical)\n",
    "\n",
    "# Estadisticas de la data estandarizada\n",
    "pd.DataFrame(df_scaled).describe()"
   ]
  },
  {
   "cell_type": "code",
   "execution_count": 22,
   "metadata": {},
   "outputs": [
    {
     "data": {
      "text/html": [
       "<div>\n",
       "<style scoped>\n",
       "    .dataframe tbody tr th:only-of-type {\n",
       "        vertical-align: middle;\n",
       "    }\n",
       "\n",
       "    .dataframe tbody tr th {\n",
       "        vertical-align: top;\n",
       "    }\n",
       "\n",
       "    .dataframe thead th {\n",
       "        text-align: right;\n",
       "    }\n",
       "</style>\n",
       "<table border=\"1\" class=\"dataframe\">\n",
       "  <thead>\n",
       "    <tr style=\"text-align: right;\">\n",
       "      <th></th>\n",
       "      <th>0</th>\n",
       "      <th>1</th>\n",
       "      <th>2</th>\n",
       "      <th>3</th>\n",
       "      <th>4</th>\n",
       "      <th>5</th>\n",
       "      <th>6</th>\n",
       "      <th>7</th>\n",
       "      <th>8</th>\n",
       "      <th>9</th>\n",
       "      <th>10</th>\n",
       "    </tr>\n",
       "  </thead>\n",
       "  <tbody>\n",
       "    <tr>\n",
       "      <th>0</th>\n",
       "      <td>-0.099309</td>\n",
       "      <td>-0.320205</td>\n",
       "      <td>0.210436</td>\n",
       "      <td>1.385885</td>\n",
       "      <td>0.968765</td>\n",
       "      <td>-1.376497</td>\n",
       "      <td>0.863116</td>\n",
       "      <td>1.112030</td>\n",
       "      <td>0.146752</td>\n",
       "      <td>0.039666</td>\n",
       "      <td>0.690262</td>\n",
       "    </tr>\n",
       "    <tr>\n",
       "      <th>1</th>\n",
       "      <td>-0.099309</td>\n",
       "      <td>-0.192390</td>\n",
       "      <td>-0.262270</td>\n",
       "      <td>-1.323849</td>\n",
       "      <td>0.968765</td>\n",
       "      <td>0.687329</td>\n",
       "      <td>0.863116</td>\n",
       "      <td>-0.348842</td>\n",
       "      <td>0.146752</td>\n",
       "      <td>-1.090112</td>\n",
       "      <td>0.690262</td>\n",
       "    </tr>\n",
       "    <tr>\n",
       "      <th>2</th>\n",
       "      <td>-0.099309</td>\n",
       "      <td>-0.230735</td>\n",
       "      <td>0.052868</td>\n",
       "      <td>-1.323849</td>\n",
       "      <td>0.968765</td>\n",
       "      <td>1.054794</td>\n",
       "      <td>0.863116</td>\n",
       "      <td>-0.348842</td>\n",
       "      <td>0.146752</td>\n",
       "      <td>-1.090112</td>\n",
       "      <td>0.690262</td>\n",
       "    </tr>\n",
       "    <tr>\n",
       "      <th>3</th>\n",
       "      <td>-0.099309</td>\n",
       "      <td>-0.320205</td>\n",
       "      <td>-0.262270</td>\n",
       "      <td>-1.348483</td>\n",
       "      <td>0.968765</td>\n",
       "      <td>-0.893407</td>\n",
       "      <td>0.863116</td>\n",
       "      <td>1.112030</td>\n",
       "      <td>0.146752</td>\n",
       "      <td>-1.090112</td>\n",
       "      <td>0.690262</td>\n",
       "    </tr>\n",
       "    <tr>\n",
       "      <th>4</th>\n",
       "      <td>-0.099309</td>\n",
       "      <td>-0.352159</td>\n",
       "      <td>-0.183486</td>\n",
       "      <td>-1.348483</td>\n",
       "      <td>-1.028758</td>\n",
       "      <td>1.260702</td>\n",
       "      <td>0.863116</td>\n",
       "      <td>1.112030</td>\n",
       "      <td>-1.785957</td>\n",
       "      <td>-1.090112</td>\n",
       "      <td>0.690262</td>\n",
       "    </tr>\n",
       "    <tr>\n",
       "      <th>...</th>\n",
       "      <td>...</td>\n",
       "      <td>...</td>\n",
       "      <td>...</td>\n",
       "      <td>...</td>\n",
       "      <td>...</td>\n",
       "      <td>...</td>\n",
       "      <td>...</td>\n",
       "      <td>...</td>\n",
       "      <td>...</td>\n",
       "      <td>...</td>\n",
       "      <td>...</td>\n",
       "    </tr>\n",
       "    <tr>\n",
       "      <th>4723</th>\n",
       "      <td>-0.099309</td>\n",
       "      <td>-0.230735</td>\n",
       "      <td>-0.199243</td>\n",
       "      <td>0.252723</td>\n",
       "      <td>0.968765</td>\n",
       "      <td>-1.222859</td>\n",
       "      <td>0.304483</td>\n",
       "      <td>-1.809714</td>\n",
       "      <td>0.146752</td>\n",
       "      <td>0.039666</td>\n",
       "      <td>0.690262</td>\n",
       "    </tr>\n",
       "    <tr>\n",
       "      <th>4724</th>\n",
       "      <td>-0.099309</td>\n",
       "      <td>-0.256298</td>\n",
       "      <td>-0.577408</td>\n",
       "      <td>-0.227639</td>\n",
       "      <td>-1.028758</td>\n",
       "      <td>0.386387</td>\n",
       "      <td>0.304483</td>\n",
       "      <td>1.112030</td>\n",
       "      <td>-1.785957</td>\n",
       "      <td>-1.090112</td>\n",
       "      <td>0.690262</td>\n",
       "    </tr>\n",
       "    <tr>\n",
       "      <th>4725</th>\n",
       "      <td>-1.300163</td>\n",
       "      <td>-0.332987</td>\n",
       "      <td>-0.498623</td>\n",
       "      <td>-1.323849</td>\n",
       "      <td>0.968765</td>\n",
       "      <td>-1.333732</td>\n",
       "      <td>0.304483</td>\n",
       "      <td>-1.809714</td>\n",
       "      <td>0.146752</td>\n",
       "      <td>-1.090112</td>\n",
       "      <td>-1.449075</td>\n",
       "    </tr>\n",
       "    <tr>\n",
       "      <th>4726</th>\n",
       "      <td>-0.099309</td>\n",
       "      <td>-0.243516</td>\n",
       "      <td>0.210436</td>\n",
       "      <td>-0.178371</td>\n",
       "      <td>0.968765</td>\n",
       "      <td>-1.333732</td>\n",
       "      <td>0.304483</td>\n",
       "      <td>-1.809714</td>\n",
       "      <td>2.079460</td>\n",
       "      <td>0.039666</td>\n",
       "      <td>-1.449075</td>\n",
       "    </tr>\n",
       "    <tr>\n",
       "      <th>4727</th>\n",
       "      <td>1.101545</td>\n",
       "      <td>-0.064575</td>\n",
       "      <td>-1.185623</td>\n",
       "      <td>-0.227639</td>\n",
       "      <td>0.968765</td>\n",
       "      <td>-0.354880</td>\n",
       "      <td>0.304483</td>\n",
       "      <td>-1.809714</td>\n",
       "      <td>-1.785957</td>\n",
       "      <td>2.299223</td>\n",
       "      <td>0.690262</td>\n",
       "    </tr>\n",
       "  </tbody>\n",
       "</table>\n",
       "<p>4728 rows × 11 columns</p>\n",
       "</div>"
      ],
      "text/plain": [
       "            0         1         2         3         4         5         6   \\\n",
       "0    -0.099309 -0.320205  0.210436  1.385885  0.968765 -1.376497  0.863116   \n",
       "1    -0.099309 -0.192390 -0.262270 -1.323849  0.968765  0.687329  0.863116   \n",
       "2    -0.099309 -0.230735  0.052868 -1.323849  0.968765  1.054794  0.863116   \n",
       "3    -0.099309 -0.320205 -0.262270 -1.348483  0.968765 -0.893407  0.863116   \n",
       "4    -0.099309 -0.352159 -0.183486 -1.348483 -1.028758  1.260702  0.863116   \n",
       "...        ...       ...       ...       ...       ...       ...       ...   \n",
       "4723 -0.099309 -0.230735 -0.199243  0.252723  0.968765 -1.222859  0.304483   \n",
       "4724 -0.099309 -0.256298 -0.577408 -0.227639 -1.028758  0.386387  0.304483   \n",
       "4725 -1.300163 -0.332987 -0.498623 -1.323849  0.968765 -1.333732  0.304483   \n",
       "4726 -0.099309 -0.243516  0.210436 -0.178371  0.968765 -1.333732  0.304483   \n",
       "4727  1.101545 -0.064575 -1.185623 -0.227639  0.968765 -0.354880  0.304483   \n",
       "\n",
       "            7         8         9         10  \n",
       "0     1.112030  0.146752  0.039666  0.690262  \n",
       "1    -0.348842  0.146752 -1.090112  0.690262  \n",
       "2    -0.348842  0.146752 -1.090112  0.690262  \n",
       "3     1.112030  0.146752 -1.090112  0.690262  \n",
       "4     1.112030 -1.785957 -1.090112  0.690262  \n",
       "...        ...       ...       ...       ...  \n",
       "4723 -1.809714  0.146752  0.039666  0.690262  \n",
       "4724  1.112030 -1.785957 -1.090112  0.690262  \n",
       "4725 -1.809714  0.146752 -1.090112 -1.449075  \n",
       "4726 -1.809714  2.079460  0.039666 -1.449075  \n",
       "4727 -1.809714 -1.785957  2.299223  0.690262  \n",
       "\n",
       "[4728 rows x 11 columns]"
      ]
     },
     "execution_count": 22,
     "metadata": {},
     "output_type": "execute_result"
    }
   ],
   "source": [
    "pd.DataFrame(df_scaled)"
   ]
  },
  {
   "cell_type": "markdown",
   "metadata": {},
   "source": [
    "### Determinar cantidad de clusters a usar"
   ]
  },
  {
   "cell_type": "code",
   "execution_count": 23,
   "metadata": {},
   "outputs": [
    {
     "data": {
      "text/plain": [
       "[52008.000000000065,\n",
       " 42734.058785257555,\n",
       " 39260.59815439082,\n",
       " 35583.52779147135,\n",
       " 33627.68187155695,\n",
       " 31794.212112340454,\n",
       " 30569.11608689595,\n",
       " 29514.52507598172,\n",
       " 28397.28259905737,\n",
       " 26465.371207865814]"
      ]
     },
     "execution_count": 23,
     "metadata": {},
     "output_type": "execute_result"
    }
   ],
   "source": [
    "# Se ajustan multiples modelos de k-means para determinar el número optimo de clusters\n",
    "SSE = []\n",
    "for cluster in range(1,11):\n",
    "    kmeans = KMeans(n_clusters = cluster, init='k-means++', n_init='auto', max_iter=300)\n",
    "    # Computamos sobre los datos estandarizados\n",
    "    kmeans.fit(df_scaled)\n",
    "    # Calculamos la inercia sobre los datos estandarizados\n",
    "    SSE.append(kmeans.inertia_)\n",
    "\n",
    "SSE\n"
   ]
  },
  {
   "cell_type": "code",
   "execution_count": 24,
   "metadata": {},
   "outputs": [
    {
     "data": {
      "text/plain": [
       "Text(0, 0.5, 'Inercia')"
      ]
     },
     "execution_count": 24,
     "metadata": {},
     "output_type": "execute_result"
    },
    {
     "data": {
      "image/png": "[encoded data removed]",
      "text/plain": [
       "<Figure size 1200x600 with 1 Axes>"
      ]
     },
     "metadata": {},
     "output_type": "display_data"
    }
   ],
   "source": [
    "# Convertir los resultados en un dataframe para usar el metodo del \"codo\"\n",
    "plt.figure(figsize=(12,6))\n",
    "plt.plot(range(1,11), SSE, marker='o')\n",
    "plt.title('Codo de jambú')\n",
    "plt.xlabel('Numero de clusters')\n",
    "plt.ylabel('Inercia') # Indicador de que tan similares son los individuos dentro de los clusters"
   ]
  },
  {
   "cell_type": "markdown",
   "metadata": {},
   "source": [
    "Podemos ver que desde el valor 3, la curva deja de descender drasticamente. Esto significa que apartir del número 3 son los valores idoneos para seleccionar los clusters."
   ]
  },
  {
   "cell_type": "markdown",
   "metadata": {},
   "source": [
    "## Implementando KMeans library con los clusteres sugeridos"
   ]
  },
  {
   "cell_type": "code",
   "execution_count": 25,
   "metadata": {},
   "outputs": [],
   "source": [
    "# Cantidad de clusters a usar\n",
    "kClusters = 3"
   ]
  },
  {
   "cell_type": "code",
   "execution_count": 26,
   "metadata": {},
   "outputs": [],
   "source": [
    "def get_random_centroids(data, k = 3):\n",
    "    \n",
    "    #return random samples from the dataset\n",
    "    cent = (data.sample(n = k))\n",
    "    return cent"
   ]
  },
  {
   "cell_type": "code",
   "execution_count": 27,
   "metadata": {},
   "outputs": [
    {
     "data": {
      "image/png": "[encoded data removed]",
      "text/plain": [
       "<Figure size 640x480 with 1 Axes>"
      ]
     },
     "metadata": {},
     "output_type": "display_data"
    }
   ],
   "source": [
    "# Tendencias entre las varables explicativas y la variable objetivo\n",
    "\n",
    "X = pd.DataFrame(df_scaled)[[1,2]]\n",
    "centroids = get_random_centroids(X, k=kClusters)\n",
    "sns.scatterplot(data=X, x=2, y=1)\n",
    "sns.scatterplot(data=centroids, x=2, y=1)\n",
    "plt.title('Relación entre Size y Rent')\n",
    "plt.show()"
   ]
  },
  {
   "cell_type": "code",
   "execution_count": 28,
   "metadata": {},
   "outputs": [
    {
     "data": {
      "text/html": [
       "<style>#sk-container-id-1 {color: black;}#sk-container-id-1 pre{padding: 0;}#sk-container-id-1 div.sk-toggleable {background-color: white;}#sk-container-id-1 label.sk-toggleable__label {cursor: pointer;display: block;width: 100%;margin-bottom: 0;padding: 0.3em;box-sizing: border-box;text-align: center;}#sk-container-id-1 label.sk-toggleable__label-arrow:before {content: \"▸\";float: left;margin-right: 0.25em;color: #696969;}#sk-container-id-1 label.sk-toggleable__label-arrow:hover:before {color: black;}#sk-container-id-1 div.sk-estimator:hover label.sk-toggleable__label-arrow:before {color: black;}#sk-container-id-1 div.sk-toggleable__content {max-height: 0;max-width: 0;overflow: hidden;text-align: left;background-color: #f0f8ff;}#sk-container-id-1 div.sk-toggleable__content pre {margin: 0.2em;color: black;border-radius: 0.25em;background-color: #f0f8ff;}#sk-container-id-1 input.sk-toggleable__control:checked~div.sk-toggleable__content {max-height: 200px;max-width: 100%;overflow: auto;}#sk-container-id-1 input.sk-toggleable__control:checked~label.sk-toggleable__label-arrow:before {content: \"▾\";}#sk-container-id-1 div.sk-estimator input.sk-toggleable__control:checked~label.sk-toggleable__label {background-color: #d4ebff;}#sk-container-id-1 div.sk-label input.sk-toggleable__control:checked~label.sk-toggleable__label {background-color: #d4ebff;}#sk-container-id-1 input.sk-hidden--visually {border: 0;clip: rect(1px 1px 1px 1px);clip: rect(1px, 1px, 1px, 1px);height: 1px;margin: -1px;overflow: hidden;padding: 0;position: absolute;width: 1px;}#sk-container-id-1 div.sk-estimator {font-family: monospace;background-color: #f0f8ff;border: 1px dotted black;border-radius: 0.25em;box-sizing: border-box;margin-bottom: 0.5em;}#sk-container-id-1 div.sk-estimator:hover {background-color: #d4ebff;}#sk-container-id-1 div.sk-parallel-item::after {content: \"\";width: 100%;border-bottom: 1px solid gray;flex-grow: 1;}#sk-container-id-1 div.sk-label:hover label.sk-toggleable__label {background-color: #d4ebff;}#sk-container-id-1 div.sk-serial::before {content: \"\";position: absolute;border-left: 1px solid gray;box-sizing: border-box;top: 0;bottom: 0;left: 50%;z-index: 0;}#sk-container-id-1 div.sk-serial {display: flex;flex-direction: column;align-items: center;background-color: white;padding-right: 0.2em;padding-left: 0.2em;position: relative;}#sk-container-id-1 div.sk-item {position: relative;z-index: 1;}#sk-container-id-1 div.sk-parallel {display: flex;align-items: stretch;justify-content: center;background-color: white;position: relative;}#sk-container-id-1 div.sk-item::before, #sk-container-id-1 div.sk-parallel-item::before {content: \"\";position: absolute;border-left: 1px solid gray;box-sizing: border-box;top: 0;bottom: 0;left: 50%;z-index: -1;}#sk-container-id-1 div.sk-parallel-item {display: flex;flex-direction: column;z-index: 1;position: relative;background-color: white;}#sk-container-id-1 div.sk-parallel-item:first-child::after {align-self: flex-end;width: 50%;}#sk-container-id-1 div.sk-parallel-item:last-child::after {align-self: flex-start;width: 50%;}#sk-container-id-1 div.sk-parallel-item:only-child::after {width: 0;}#sk-container-id-1 div.sk-dashed-wrapped {border: 1px dashed gray;margin: 0 0.4em 0.5em 0.4em;box-sizing: border-box;padding-bottom: 0.4em;background-color: white;}#sk-container-id-1 div.sk-label label {font-family: monospace;font-weight: bold;display: inline-block;line-height: 1.2em;}#sk-container-id-1 div.sk-label-container {text-align: center;}#sk-container-id-1 div.sk-container {/* jupyter's `normalize.less` sets `[hidden] { display: none; }` but bootstrap.min.css set `[hidden] { display: none !important; }` so we also need the `!important` here to be able to override the default hidden behavior on the sphinx rendered scikit-learn.org. See: https://github.com/scikit-learn/scikit-learn/issues/21755 */display: inline-block !important;position: relative;}#sk-container-id-1 div.sk-text-repr-fallback {display: none;}</style><div id=\"sk-container-id-1\" class=\"sk-top-container\"><div class=\"sk-text-repr-fallback\"><pre>KMeans(init=&#x27;random&#x27;, max_iter=5, n_clusters=3, n_init=2)</pre><b>In a Jupyter environment, please rerun this cell to show the HTML representation or trust the notebook. <br />On GitHub, the HTML representation is unable to render, please try loading this page with nbviewer.org.</b></div><div class=\"sk-container\" hidden><div class=\"sk-item\"><div class=\"sk-estimator sk-toggleable\"><input class=\"sk-toggleable__control sk-hidden--visually\" id=\"sk-estimator-id-1\" type=\"checkbox\" checked><label for=\"sk-estimator-id-1\" class=\"sk-toggleable__label sk-toggleable__label-arrow\">KMeans</label><div class=\"sk-toggleable__content\"><pre>KMeans(init=&#x27;random&#x27;, max_iter=5, n_clusters=3, n_init=2)</pre></div></div></div></div></div>"
      ],
      "text/plain": [
       "KMeans(init='random', max_iter=5, n_clusters=3, n_init=2)"
      ]
     },
     "execution_count": 28,
     "metadata": {},
     "output_type": "execute_result"
    }
   ],
   "source": [
    "# Segunda prueba (con más clusters)\n",
    "# Definiendo la función K-means con k-means++ como inicialización\n",
    "clustering = KMeans(n_clusters=kClusters, init='random', n_init=2, max_iter=5)\n",
    "\n",
    "# Computamos sobre los datos escalados\n",
    "clustering.fit(df_scaled)\n"
   ]
  },
  {
   "cell_type": "code",
   "execution_count": 29,
   "metadata": {},
   "outputs": [
    {
     "data": {
      "text/html": [
       "<div>\n",
       "<style scoped>\n",
       "    .dataframe tbody tr th:only-of-type {\n",
       "        vertical-align: middle;\n",
       "    }\n",
       "\n",
       "    .dataframe tbody tr th {\n",
       "        vertical-align: top;\n",
       "    }\n",
       "\n",
       "    .dataframe thead th {\n",
       "        text-align: right;\n",
       "    }\n",
       "</style>\n",
       "<table border=\"1\" class=\"dataframe\">\n",
       "  <thead>\n",
       "    <tr style=\"text-align: right;\">\n",
       "      <th></th>\n",
       "      <th>0</th>\n",
       "      <th>1</th>\n",
       "      <th>2</th>\n",
       "      <th>3</th>\n",
       "      <th>4</th>\n",
       "      <th>5</th>\n",
       "      <th>6</th>\n",
       "      <th>7</th>\n",
       "      <th>8</th>\n",
       "      <th>9</th>\n",
       "      <th>10</th>\n",
       "    </tr>\n",
       "  </thead>\n",
       "  <tbody>\n",
       "    <tr>\n",
       "      <th>0</th>\n",
       "      <td>-0.099309</td>\n",
       "      <td>-0.320205</td>\n",
       "      <td>0.210436</td>\n",
       "      <td>1.385885</td>\n",
       "      <td>0.968765</td>\n",
       "      <td>-1.376497</td>\n",
       "      <td>0.863116</td>\n",
       "      <td>1.112030</td>\n",
       "      <td>0.146752</td>\n",
       "      <td>0.039666</td>\n",
       "      <td>0.690262</td>\n",
       "    </tr>\n",
       "    <tr>\n",
       "      <th>1</th>\n",
       "      <td>-0.099309</td>\n",
       "      <td>-0.192390</td>\n",
       "      <td>-0.262270</td>\n",
       "      <td>-1.323849</td>\n",
       "      <td>0.968765</td>\n",
       "      <td>0.687329</td>\n",
       "      <td>0.863116</td>\n",
       "      <td>-0.348842</td>\n",
       "      <td>0.146752</td>\n",
       "      <td>-1.090112</td>\n",
       "      <td>0.690262</td>\n",
       "    </tr>\n",
       "    <tr>\n",
       "      <th>2</th>\n",
       "      <td>-0.099309</td>\n",
       "      <td>-0.230735</td>\n",
       "      <td>0.052868</td>\n",
       "      <td>-1.323849</td>\n",
       "      <td>0.968765</td>\n",
       "      <td>1.054794</td>\n",
       "      <td>0.863116</td>\n",
       "      <td>-0.348842</td>\n",
       "      <td>0.146752</td>\n",
       "      <td>-1.090112</td>\n",
       "      <td>0.690262</td>\n",
       "    </tr>\n",
       "    <tr>\n",
       "      <th>3</th>\n",
       "      <td>-0.099309</td>\n",
       "      <td>-0.320205</td>\n",
       "      <td>-0.262270</td>\n",
       "      <td>-1.348483</td>\n",
       "      <td>0.968765</td>\n",
       "      <td>-0.893407</td>\n",
       "      <td>0.863116</td>\n",
       "      <td>1.112030</td>\n",
       "      <td>0.146752</td>\n",
       "      <td>-1.090112</td>\n",
       "      <td>0.690262</td>\n",
       "    </tr>\n",
       "    <tr>\n",
       "      <th>4</th>\n",
       "      <td>-0.099309</td>\n",
       "      <td>-0.352159</td>\n",
       "      <td>-0.183486</td>\n",
       "      <td>-1.348483</td>\n",
       "      <td>-1.028758</td>\n",
       "      <td>1.260702</td>\n",
       "      <td>0.863116</td>\n",
       "      <td>1.112030</td>\n",
       "      <td>-1.785957</td>\n",
       "      <td>-1.090112</td>\n",
       "      <td>0.690262</td>\n",
       "    </tr>\n",
       "    <tr>\n",
       "      <th>...</th>\n",
       "      <td>...</td>\n",
       "      <td>...</td>\n",
       "      <td>...</td>\n",
       "      <td>...</td>\n",
       "      <td>...</td>\n",
       "      <td>...</td>\n",
       "      <td>...</td>\n",
       "      <td>...</td>\n",
       "      <td>...</td>\n",
       "      <td>...</td>\n",
       "      <td>...</td>\n",
       "    </tr>\n",
       "    <tr>\n",
       "      <th>4723</th>\n",
       "      <td>-0.099309</td>\n",
       "      <td>-0.230735</td>\n",
       "      <td>-0.199243</td>\n",
       "      <td>0.252723</td>\n",
       "      <td>0.968765</td>\n",
       "      <td>-1.222859</td>\n",
       "      <td>0.304483</td>\n",
       "      <td>-1.809714</td>\n",
       "      <td>0.146752</td>\n",
       "      <td>0.039666</td>\n",
       "      <td>0.690262</td>\n",
       "    </tr>\n",
       "    <tr>\n",
       "      <th>4724</th>\n",
       "      <td>-0.099309</td>\n",
       "      <td>-0.256298</td>\n",
       "      <td>-0.577408</td>\n",
       "      <td>-0.227639</td>\n",
       "      <td>-1.028758</td>\n",
       "      <td>0.386387</td>\n",
       "      <td>0.304483</td>\n",
       "      <td>1.112030</td>\n",
       "      <td>-1.785957</td>\n",
       "      <td>-1.090112</td>\n",
       "      <td>0.690262</td>\n",
       "    </tr>\n",
       "    <tr>\n",
       "      <th>4725</th>\n",
       "      <td>-1.300163</td>\n",
       "      <td>-0.332987</td>\n",
       "      <td>-0.498623</td>\n",
       "      <td>-1.323849</td>\n",
       "      <td>0.968765</td>\n",
       "      <td>-1.333732</td>\n",
       "      <td>0.304483</td>\n",
       "      <td>-1.809714</td>\n",
       "      <td>0.146752</td>\n",
       "      <td>-1.090112</td>\n",
       "      <td>-1.449075</td>\n",
       "    </tr>\n",
       "    <tr>\n",
       "      <th>4726</th>\n",
       "      <td>-0.099309</td>\n",
       "      <td>-0.243516</td>\n",
       "      <td>0.210436</td>\n",
       "      <td>-0.178371</td>\n",
       "      <td>0.968765</td>\n",
       "      <td>-1.333732</td>\n",
       "      <td>0.304483</td>\n",
       "      <td>-1.809714</td>\n",
       "      <td>2.079460</td>\n",
       "      <td>0.039666</td>\n",
       "      <td>-1.449075</td>\n",
       "    </tr>\n",
       "    <tr>\n",
       "      <th>4727</th>\n",
       "      <td>1.101545</td>\n",
       "      <td>-0.064575</td>\n",
       "      <td>-1.185623</td>\n",
       "      <td>-0.227639</td>\n",
       "      <td>0.968765</td>\n",
       "      <td>-0.354880</td>\n",
       "      <td>0.304483</td>\n",
       "      <td>-1.809714</td>\n",
       "      <td>-1.785957</td>\n",
       "      <td>2.299223</td>\n",
       "      <td>0.690262</td>\n",
       "    </tr>\n",
       "  </tbody>\n",
       "</table>\n",
       "<p>4728 rows × 11 columns</p>\n",
       "</div>"
      ],
      "text/plain": [
       "            0         1         2         3         4         5         6   \\\n",
       "0    -0.099309 -0.320205  0.210436  1.385885  0.968765 -1.376497  0.863116   \n",
       "1    -0.099309 -0.192390 -0.262270 -1.323849  0.968765  0.687329  0.863116   \n",
       "2    -0.099309 -0.230735  0.052868 -1.323849  0.968765  1.054794  0.863116   \n",
       "3    -0.099309 -0.320205 -0.262270 -1.348483  0.968765 -0.893407  0.863116   \n",
       "4    -0.099309 -0.352159 -0.183486 -1.348483 -1.028758  1.260702  0.863116   \n",
       "...        ...       ...       ...       ...       ...       ...       ...   \n",
       "4723 -0.099309 -0.230735 -0.199243  0.252723  0.968765 -1.222859  0.304483   \n",
       "4724 -0.099309 -0.256298 -0.577408 -0.227639 -1.028758  0.386387  0.304483   \n",
       "4725 -1.300163 -0.332987 -0.498623 -1.323849  0.968765 -1.333732  0.304483   \n",
       "4726 -0.099309 -0.243516  0.210436 -0.178371  0.968765 -1.333732  0.304483   \n",
       "4727  1.101545 -0.064575 -1.185623 -0.227639  0.968765 -0.354880  0.304483   \n",
       "\n",
       "            7         8         9         10  \n",
       "0     1.112030  0.146752  0.039666  0.690262  \n",
       "1    -0.348842  0.146752 -1.090112  0.690262  \n",
       "2    -0.348842  0.146752 -1.090112  0.690262  \n",
       "3     1.112030  0.146752 -1.090112  0.690262  \n",
       "4     1.112030 -1.785957 -1.090112  0.690262  \n",
       "...        ...       ...       ...       ...  \n",
       "4723 -1.809714  0.146752  0.039666  0.690262  \n",
       "4724  1.112030 -1.785957 -1.090112  0.690262  \n",
       "4725 -1.809714  0.146752 -1.090112 -1.449075  \n",
       "4726 -1.809714  2.079460  0.039666 -1.449075  \n",
       "4727 -1.809714 -1.785957  2.299223  0.690262  \n",
       "\n",
       "[4728 rows x 11 columns]"
      ]
     },
     "execution_count": 29,
     "metadata": {},
     "output_type": "execute_result"
    }
   ],
   "source": [
    "pd.DataFrame(df_scaled)"
   ]
  },
  {
   "cell_type": "code",
   "execution_count": 30,
   "metadata": {},
   "outputs": [
    {
     "data": {
      "text/html": [
       "<div>\n",
       "<style scoped>\n",
       "    .dataframe tbody tr th:only-of-type {\n",
       "        vertical-align: middle;\n",
       "    }\n",
       "\n",
       "    .dataframe tbody tr th {\n",
       "        vertical-align: top;\n",
       "    }\n",
       "\n",
       "    .dataframe thead th {\n",
       "        text-align: right;\n",
       "    }\n",
       "</style>\n",
       "<table border=\"1\" class=\"dataframe\">\n",
       "  <thead>\n",
       "    <tr style=\"text-align: right;\">\n",
       "      <th></th>\n",
       "      <th>BHK</th>\n",
       "      <th>Rent</th>\n",
       "      <th>Size</th>\n",
       "      <th>Floor</th>\n",
       "      <th>Area Type</th>\n",
       "      <th>Area Locality</th>\n",
       "      <th>City</th>\n",
       "      <th>Furnishing Status</th>\n",
       "      <th>Tenant Preferred</th>\n",
       "      <th>Bathroom</th>\n",
       "      <th>Point of Contact</th>\n",
       "      <th>KMeans_Clusters</th>\n",
       "    </tr>\n",
       "  </thead>\n",
       "  <tbody>\n",
       "    <tr>\n",
       "      <th>0</th>\n",
       "      <td>2</td>\n",
       "      <td>10000</td>\n",
       "      <td>1100</td>\n",
       "      <td>454</td>\n",
       "      <td>2</td>\n",
       "      <td>220</td>\n",
       "      <td>4</td>\n",
       "      <td>2</td>\n",
       "      <td>1</td>\n",
       "      <td>2</td>\n",
       "      <td>2</td>\n",
       "      <td>1</td>\n",
       "    </tr>\n",
       "    <tr>\n",
       "      <th>1</th>\n",
       "      <td>2</td>\n",
       "      <td>20000</td>\n",
       "      <td>800</td>\n",
       "      <td>14</td>\n",
       "      <td>2</td>\n",
       "      <td>1523</td>\n",
       "      <td>4</td>\n",
       "      <td>1</td>\n",
       "      <td>1</td>\n",
       "      <td>1</td>\n",
       "      <td>2</td>\n",
       "      <td>1</td>\n",
       "    </tr>\n",
       "    <tr>\n",
       "      <th>2</th>\n",
       "      <td>2</td>\n",
       "      <td>17000</td>\n",
       "      <td>1000</td>\n",
       "      <td>14</td>\n",
       "      <td>2</td>\n",
       "      <td>1755</td>\n",
       "      <td>4</td>\n",
       "      <td>1</td>\n",
       "      <td>1</td>\n",
       "      <td>1</td>\n",
       "      <td>2</td>\n",
       "      <td>1</td>\n",
       "    </tr>\n",
       "    <tr>\n",
       "      <th>3</th>\n",
       "      <td>2</td>\n",
       "      <td>10000</td>\n",
       "      <td>800</td>\n",
       "      <td>10</td>\n",
       "      <td>2</td>\n",
       "      <td>525</td>\n",
       "      <td>4</td>\n",
       "      <td>2</td>\n",
       "      <td>1</td>\n",
       "      <td>1</td>\n",
       "      <td>2</td>\n",
       "      <td>0</td>\n",
       "    </tr>\n",
       "    <tr>\n",
       "      <th>4</th>\n",
       "      <td>2</td>\n",
       "      <td>7500</td>\n",
       "      <td>850</td>\n",
       "      <td>10</td>\n",
       "      <td>1</td>\n",
       "      <td>1885</td>\n",
       "      <td>4</td>\n",
       "      <td>2</td>\n",
       "      <td>0</td>\n",
       "      <td>1</td>\n",
       "      <td>2</td>\n",
       "      <td>0</td>\n",
       "    </tr>\n",
       "  </tbody>\n",
       "</table>\n",
       "</div>"
      ],
      "text/plain": [
       "   BHK   Rent  Size  Floor  Area Type  Area Locality  City  Furnishing Status  \\\n",
       "0    2  10000  1100    454          2            220     4                  2   \n",
       "1    2  20000   800     14          2           1523     4                  1   \n",
       "2    2  17000  1000     14          2           1755     4                  1   \n",
       "3    2  10000   800     10          2            525     4                  2   \n",
       "4    2   7500   850     10          1           1885     4                  2   \n",
       "\n",
       "   Tenant Preferred  Bathroom  Point of Contact  KMeans_Clusters  \n",
       "0                 1         2                 2                1  \n",
       "1                 1         1                 2                1  \n",
       "2                 1         1                 2                1  \n",
       "3                 1         1                 2                0  \n",
       "4                 0         1                 2                0  "
      ]
     },
     "execution_count": 30,
     "metadata": {},
     "output_type": "execute_result"
    }
   ],
   "source": [
    "# Agregando clasificación como nueva columna al dataset original\n",
    "df_init['KMeans_Clusters'] = clustering.labels_\n",
    "# Agregando clasificación como nueva columna al dataset estandarizado\n",
    "pd.DataFrame(df_scaled)[11] = clustering.labels_\n",
    "# Agregando clasificación como nueva columna al dataset númerico\n",
    "df_numerical['KMeans_Clusters'] = clustering.labels_\n",
    "df_numerical.head()"
   ]
  },
  {
   "cell_type": "markdown",
   "metadata": {},
   "source": [
    "### Visualizando los clusters"
   ]
  },
  {
   "cell_type": "code",
   "execution_count": 31,
   "metadata": {},
   "outputs": [
    {
     "data": {
      "text/html": [
       "<div>\n",
       "<style scoped>\n",
       "    .dataframe tbody tr th:only-of-type {\n",
       "        vertical-align: middle;\n",
       "    }\n",
       "\n",
       "    .dataframe tbody tr th {\n",
       "        vertical-align: top;\n",
       "    }\n",
       "\n",
       "    .dataframe thead th {\n",
       "        text-align: right;\n",
       "    }\n",
       "</style>\n",
       "<table border=\"1\" class=\"dataframe\">\n",
       "  <thead>\n",
       "    <tr style=\"text-align: right;\">\n",
       "      <th></th>\n",
       "      <th>Componente_1</th>\n",
       "      <th>Componente_2</th>\n",
       "      <th>KMeans_Clusters</th>\n",
       "    </tr>\n",
       "  </thead>\n",
       "  <tbody>\n",
       "    <tr>\n",
       "      <th>0</th>\n",
       "      <td>-0.526315</td>\n",
       "      <td>0.252237</td>\n",
       "      <td>1</td>\n",
       "    </tr>\n",
       "    <tr>\n",
       "      <th>1</th>\n",
       "      <td>-1.064824</td>\n",
       "      <td>0.301135</td>\n",
       "      <td>1</td>\n",
       "    </tr>\n",
       "    <tr>\n",
       "      <th>2</th>\n",
       "      <td>-0.938803</td>\n",
       "      <td>0.414058</td>\n",
       "      <td>1</td>\n",
       "    </tr>\n",
       "    <tr>\n",
       "      <th>3</th>\n",
       "      <td>-1.343132</td>\n",
       "      <td>0.170668</td>\n",
       "      <td>0</td>\n",
       "    </tr>\n",
       "    <tr>\n",
       "      <th>4</th>\n",
       "      <td>-0.872024</td>\n",
       "      <td>-1.165294</td>\n",
       "      <td>0</td>\n",
       "    </tr>\n",
       "    <tr>\n",
       "      <th>...</th>\n",
       "      <td>...</td>\n",
       "      <td>...</td>\n",
       "      <td>...</td>\n",
       "    </tr>\n",
       "    <tr>\n",
       "      <th>4723</th>\n",
       "      <td>-0.312121</td>\n",
       "      <td>0.710025</td>\n",
       "      <td>1</td>\n",
       "    </tr>\n",
       "    <tr>\n",
       "      <th>4724</th>\n",
       "      <td>-1.073572</td>\n",
       "      <td>-1.166338</td>\n",
       "      <td>0</td>\n",
       "    </tr>\n",
       "    <tr>\n",
       "      <th>4725</th>\n",
       "      <td>-0.927418</td>\n",
       "      <td>-0.758648</td>\n",
       "      <td>1</td>\n",
       "    </tr>\n",
       "    <tr>\n",
       "      <th>4726</th>\n",
       "      <td>0.575660</td>\n",
       "      <td>0.259310</td>\n",
       "      <td>1</td>\n",
       "    </tr>\n",
       "    <tr>\n",
       "      <th>4727</th>\n",
       "      <td>0.943413</td>\n",
       "      <td>0.857403</td>\n",
       "      <td>1</td>\n",
       "    </tr>\n",
       "  </tbody>\n",
       "</table>\n",
       "<p>4728 rows × 3 columns</p>\n",
       "</div>"
      ],
      "text/plain": [
       "      Componente_1  Componente_2  KMeans_Clusters\n",
       "0        -0.526315      0.252237                1\n",
       "1        -1.064824      0.301135                1\n",
       "2        -0.938803      0.414058                1\n",
       "3        -1.343132      0.170668                0\n",
       "4        -0.872024     -1.165294                0\n",
       "...            ...           ...              ...\n",
       "4723     -0.312121      0.710025                1\n",
       "4724     -1.073572     -1.166338                0\n",
       "4725     -0.927418     -0.758648                1\n",
       "4726      0.575660      0.259310                1\n",
       "4727      0.943413      0.857403                1\n",
       "\n",
       "[4728 rows x 3 columns]"
      ]
     },
     "execution_count": 31,
     "metadata": {},
     "output_type": "execute_result"
    }
   ],
   "source": [
    "from sklearn.decomposition import PCA\n",
    "\n",
    "pca = PCA(n_components=2)\n",
    "pca_houses = pca.fit_transform(df_scaled)\n",
    "pca_houses_df = pd.DataFrame(data=pca_houses, columns=['Componente_1','Componente_2'])\n",
    "pca_houses_comps = pd.concat([pca_houses_df, df_init[['KMeans_Clusters']]], axis=1)\n",
    "\n",
    "pca_houses_comps"
   ]
  },
  {
   "cell_type": "code",
   "execution_count": 32,
   "metadata": {},
   "outputs": [
    {
     "data": {
      "image/png": "[encoded data removed]",
      "text/plain": [
       "<Figure size 600x600 with 1 Axes>"
      ]
     },
     "metadata": {},
     "output_type": "display_data"
    }
   ],
   "source": [
    "fig = plt.figure(figsize=(6,6))\n",
    "\n",
    "ax = fig.add_subplot(1,1,1)\n",
    "ax.set_xlabel('Comp 1')\n",
    "ax.set_ylabel('Comp 2')\n",
    "ax.set_title('Componentes principales')\n",
    "\n",
    "color_theme = np.array(['blue', 'green', 'yellow'])\n",
    "ax.scatter(\n",
    "  x= pca_houses_comps.Componente_2, \n",
    "  y= pca_houses_comps.Componente_1, \n",
    "  c=color_theme[pca_houses_comps.KMeans_Clusters], \n",
    "  s=20\n",
    ")\n",
    "\n",
    "plt.show()"
   ]
  },
  {
   "cell_type": "markdown",
   "metadata": {},
   "source": [
    "Estos clusters nos permite ver que podemos determinar el valor de una propiedad en base al tamaño de la misma: Alquiler según propiedades grandes, medianas y pequeñas."
   ]
  },
  {
   "cell_type": "code",
   "execution_count": 33,
   "metadata": {},
   "outputs": [
    {
     "name": "stdout",
     "output_type": "stream",
     "text": [
      "[1 1 1 ... 1 1 1]\n"
     ]
    }
   ],
   "source": [
    "# Se predice\n",
    "pred = clustering.predict(df_scaled)\n",
    "print(pred)"
   ]
  },
  {
   "cell_type": "code",
   "execution_count": 34,
   "metadata": {},
   "outputs": [
    {
     "data": {
      "text/plain": [
       "cluster\n",
       "0    1787\n",
       "1    1686\n",
       "2    1255\n",
       "Name: count, dtype: int64"
      ]
     },
     "execution_count": 34,
     "metadata": {},
     "output_type": "execute_result"
    }
   ],
   "source": [
    "#Valor de recuento de puntos en cada uno de los grupos formados anteriormente\n",
    "\n",
    "frame = pd.DataFrame(df_numerical)\n",
    "frame['cluster'] = pred\n",
    "frame['cluster'].value_counts()"
   ]
  },
  {
   "cell_type": "markdown",
   "metadata": {},
   "source": [
    "## Implementando Red Neuronal library usando los clusters generados"
   ]
  },
  {
   "cell_type": "markdown",
   "metadata": {},
   "source": [
    "### Dividiendo el conjunto de datos"
   ]
  },
  {
   "cell_type": "code",
   "execution_count": 35,
   "metadata": {},
   "outputs": [],
   "source": [
    "# Tomamos los datos ya estandarizados para no tener problemas al inicializar la red neuronal\n",
    "\n",
    "# X_scale = df_scaled[['BHK', 'Size', 'Floor', 'Area Type', 'Furnishing Status', 'Bathroom', 'Kmeans-clusters']]\n",
    "X_scale = pd.DataFrame(df_scaled)[[0, 2, 3, 4, 7, 9, 10]]\n",
    "\n",
    "# Y_scale = df_scaled['Rent]\n",
    "Y = pd.DataFrame(df_scaled)[1]"
   ]
  },
  {
   "cell_type": "markdown",
   "metadata": {},
   "source": [
    "Dividimos nuestro conjunto de datos en un conjunto de entrenamiento, un conjunto de validación y un conjunto de prueba."
   ]
  },
  {
   "cell_type": "code",
   "execution_count": 36,
   "metadata": {},
   "outputs": [],
   "source": [
    "from sklearn.model_selection import train_test_split\n",
    "\n",
    "# Esto le dice a scikit-learn que el tamaño val_and_test será el 30% del conjunto de datos estandarizados.\n",
    "X_train, X_val_and_test, Y_train, Y_val_and_test = train_test_split(X_scale, Y, test_size=0.3)\n"
   ]
  },
  {
   "cell_type": "code",
   "execution_count": 37,
   "metadata": {},
   "outputs": [],
   "source": [
    "# Esto dividirá el tamaño de val_and_test en partes iguales entre el conjunto de validación y el conjunto de prueba.\n",
    "X_val, X_test, Y_val, Y_test = train_test_split(X_val_and_test, Y_val_and_test, test_size=0.5)\n"
   ]
  },
  {
   "cell_type": "code",
   "execution_count": 38,
   "metadata": {},
   "outputs": [
    {
     "name": "stdout",
     "output_type": "stream",
     "text": [
      "(3309, 7) (709, 7) (710, 7) (3309,) (709,) (710,)\n"
     ]
    }
   ],
   "source": [
    "# X_train (6 funciones de entrada, 70% del conjunto de datos completo)\n",
    "# X_val (6 funciones de entrada, 15 % del conjunto de datos completo)\n",
    "# X_test (6 funciones de entrada, 15 % del conjunto de datos completo)\n",
    "# Y_train (1 etiqueta, 70 % del conjunto de datos completo)\n",
    "# Y_val (1 etiqueta, 15 % del conjunto de datos completo)\n",
    "# Y_test (1 etiqueta, 15 % del conjunto de datos completo)\n",
    "\n",
    "print(X_train.shape, X_val.shape, X_test.shape, Y_train.shape, Y_val.shape, Y_test.shape)\n"
   ]
  },
  {
   "cell_type": "markdown",
   "metadata": {},
   "source": [
    "- Como se puede ver, el conjunto de entrenamiento tiene 3309 puntos de datos, mientras que el conjunto de validación y prueba tiene 709 y 710 puntos de datos cada uno. \n",
    "- Las variables X tienen 6 características de entrada, mientras que las variables Y solo tienen una característica para predecir."
   ]
  },
  {
   "cell_type": "markdown",
   "metadata": {},
   "source": [
    "### Construyendo la red neuronal"
   ]
  },
  {
   "cell_type": "markdown",
   "metadata": {},
   "source": [
    "#### Arquitectura"
   ]
  },
  {
   "cell_type": "markdown",
   "metadata": {},
   "source": [
    "Se tendran estas capas:\n",
    "- Capa oculta 1: 32 neuronas, activación ReLU\n",
    "- Capa oculta 2: 32 neuronas, activación ReLU\n",
    "- Capa de salida: 1 neurona, activación sigmoidea"
   ]
  },
  {
   "cell_type": "code",
   "execution_count": 39,
   "metadata": {},
   "outputs": [],
   "source": [
    "from tensorflow import keras\n",
    "from keras.models import Sequential\n",
    "from keras.layers import Dense, LSTM"
   ]
  },
  {
   "cell_type": "code",
   "execution_count": 40,
   "metadata": {},
   "outputs": [
    {
     "name": "stdout",
     "output_type": "stream",
     "text": [
      "Model: \"sequential\"\n",
      "_________________________________________________________________\n",
      " Layer (type)                Output Shape              Param #   \n",
      "=================================================================\n",
      " dense (Dense)               (None, 32)                256       \n",
      "                                                                 \n",
      " dense_1 (Dense)             (None, 32)                1056      \n",
      "                                                                 \n",
      " dense_2 (Dense)             (None, 1)                 33        \n",
      "                                                                 \n",
      "=================================================================\n",
      "Total params: 1345 (5.25 KB)\n",
      "Trainable params: 1345 (5.25 KB)\n",
      "Non-trainable params: 0 (0.00 Byte)\n",
      "_________________________________________________________________\n"
     ]
    }
   ],
   "source": [
    "# Se crea el modelo con 3 capas\n",
    "# Se tienen 32 neuronas por capa\n",
    "# Forma de entrada es 6 ya que tenemos 6 caracteristicas de entrada y se aplica a la siguiente capa\n",
    "# Dense nos indica que las capas estan completamente conectadas\n",
    "\n",
    "model = Sequential([\n",
    "    Dense(32, activation='relu', input_shape=(7,)),\n",
    "    Dense(32, activation='relu'),\n",
    "    Dense(1, activation='sigmoid'),\n",
    "])\n",
    "\n",
    "model.summary()"
   ]
  },
  {
   "cell_type": "markdown",
   "metadata": {},
   "source": [
    "#### Configuración de modelo"
   ]
  },
  {
   "cell_type": "code",
   "execution_count": 41,
   "metadata": {},
   "outputs": [],
   "source": [
    "# Se indica:\n",
    "# Algoritmo para optimización\n",
    "# Función de perdida\n",
    "\n",
    "model.compile(\n",
    "  optimizer='sgd', # Descenso de gradiente estocastico o mini lotes\n",
    "  loss='binary_crossentropy', # Entropia cruzada binaria: función para salidas entre 0 y 1\n",
    "  metrics=['accuracy'] # Seguimiento de la precisión\n",
    ")"
   ]
  },
  {
   "cell_type": "markdown",
   "metadata": {},
   "source": [
    "#### Entrenamiento de modelo"
   ]
  },
  {
   "cell_type": "code",
   "execution_count": 42,
   "metadata": {},
   "outputs": [
    {
     "name": "stdout",
     "output_type": "stream",
     "text": [
      "Epoch 1/100\n",
      "104/104 [==============================] - 3s 11ms/step - loss: 0.2650 - accuracy: 0.0000e+00 - val_loss: -0.0775 - val_accuracy: 0.0000e+00\n",
      "Epoch 2/100\n",
      "104/104 [==============================] - 0s 4ms/step - loss: -0.4060 - accuracy: 0.0000e+00 - val_loss: -0.8652 - val_accuracy: 0.0000e+00\n",
      "Epoch 3/100\n",
      "104/104 [==============================] - 0s 4ms/step - loss: -1.8684 - accuracy: 0.0000e+00 - val_loss: -3.4850 - val_accuracy: 0.0000e+00\n",
      "Epoch 4/100\n",
      "104/104 [==============================] - 0s 4ms/step - loss: -13.1420 - accuracy: 0.0000e+00 - val_loss: -43.8569 - val_accuracy: 0.0000e+00\n",
      "Epoch 5/100\n",
      "104/104 [==============================] - 0s 4ms/step - loss: nan - accuracy: 0.0000e+00 - val_loss: nan - val_accuracy: 0.0000e+00\n",
      "Epoch 6/100\n",
      "104/104 [==============================] - 0s 4ms/step - loss: nan - accuracy: 0.0000e+00 - val_loss: nan - val_accuracy: 0.0000e+00\n",
      "Epoch 7/100\n",
      "104/104 [==============================] - 1s 8ms/step - loss: nan - accuracy: 0.0000e+00 - val_loss: nan - val_accuracy: 0.0000e+00\n",
      "Epoch 8/100\n",
      "104/104 [==============================] - 0s 5ms/step - loss: nan - accuracy: 0.0000e+00 - val_loss: nan - val_accuracy: 0.0000e+00\n",
      "Epoch 9/100\n",
      "104/104 [==============================] - 0s 4ms/step - loss: nan - accuracy: 0.0000e+00 - val_loss: nan - val_accuracy: 0.0000e+00\n",
      "Epoch 10/100\n",
      "104/104 [==============================] - 1s 7ms/step - loss: nan - accuracy: 0.0000e+00 - val_loss: nan - val_accuracy: 0.0000e+00\n",
      "Epoch 11/100\n",
      "104/104 [==============================] - 1s 6ms/step - loss: nan - accuracy: 0.0000e+00 - val_loss: nan - val_accuracy: 0.0000e+00\n",
      "Epoch 12/100\n",
      "104/104 [==============================] - 1s 5ms/step - loss: nan - accuracy: 0.0000e+00 - val_loss: nan - val_accuracy: 0.0000e+00\n",
      "Epoch 13/100\n",
      "104/104 [==============================] - 1s 5ms/step - loss: nan - accuracy: 0.0000e+00 - val_loss: nan - val_accuracy: 0.0000e+00\n",
      "Epoch 14/100\n",
      "104/104 [==============================] - 0s 4ms/step - loss: nan - accuracy: 0.0000e+00 - val_loss: nan - val_accuracy: 0.0000e+00\n",
      "Epoch 15/100\n",
      "104/104 [==============================] - 1s 6ms/step - loss: nan - accuracy: 0.0000e+00 - val_loss: nan - val_accuracy: 0.0000e+00\n",
      "Epoch 16/100\n",
      "104/104 [==============================] - 0s 4ms/step - loss: nan - accuracy: 0.0000e+00 - val_loss: nan - val_accuracy: 0.0000e+00\n",
      "Epoch 17/100\n",
      "104/104 [==============================] - 1s 5ms/step - loss: nan - accuracy: 0.0000e+00 - val_loss: nan - val_accuracy: 0.0000e+00\n",
      "Epoch 18/100\n",
      "104/104 [==============================] - 0s 4ms/step - loss: nan - accuracy: 0.0000e+00 - val_loss: nan - val_accuracy: 0.0000e+00\n",
      "Epoch 19/100\n",
      "104/104 [==============================] - 1s 12ms/step - loss: nan - accuracy: 0.0000e+00 - val_loss: nan - val_accuracy: 0.0000e+00\n",
      "Epoch 20/100\n",
      "104/104 [==============================] - 0s 5ms/step - loss: nan - accuracy: 0.0000e+00 - val_loss: nan - val_accuracy: 0.0000e+00\n",
      "Epoch 21/100\n",
      "104/104 [==============================] - 1s 10ms/step - loss: nan - accuracy: 0.0000e+00 - val_loss: nan - val_accuracy: 0.0000e+00\n",
      "Epoch 22/100\n",
      "104/104 [==============================] - 1s 9ms/step - loss: nan - accuracy: 0.0000e+00 - val_loss: nan - val_accuracy: 0.0000e+00\n",
      "Epoch 23/100\n",
      "104/104 [==============================] - 1s 5ms/step - loss: nan - accuracy: 0.0000e+00 - val_loss: nan - val_accuracy: 0.0000e+00\n",
      "Epoch 24/100\n",
      "104/104 [==============================] - 0s 5ms/step - loss: nan - accuracy: 0.0000e+00 - val_loss: nan - val_accuracy: 0.0000e+00\n",
      "Epoch 25/100\n",
      "104/104 [==============================] - 1s 7ms/step - loss: nan - accuracy: 0.0000e+00 - val_loss: nan - val_accuracy: 0.0000e+00\n",
      "Epoch 26/100\n",
      "104/104 [==============================] - 1s 5ms/step - loss: nan - accuracy: 0.0000e+00 - val_loss: nan - val_accuracy: 0.0000e+00\n",
      "Epoch 27/100\n",
      "104/104 [==============================] - 0s 4ms/step - loss: nan - accuracy: 0.0000e+00 - val_loss: nan - val_accuracy: 0.0000e+00\n",
      "Epoch 28/100\n",
      "104/104 [==============================] - 0s 5ms/step - loss: nan - accuracy: 0.0000e+00 - val_loss: nan - val_accuracy: 0.0000e+00\n",
      "Epoch 29/100\n",
      "104/104 [==============================] - 0s 4ms/step - loss: nan - accuracy: 0.0000e+00 - val_loss: nan - val_accuracy: 0.0000e+00\n",
      "Epoch 30/100\n",
      "104/104 [==============================] - 0s 4ms/step - loss: nan - accuracy: 0.0000e+00 - val_loss: nan - val_accuracy: 0.0000e+00\n",
      "Epoch 31/100\n",
      "104/104 [==============================] - 0s 4ms/step - loss: nan - accuracy: 0.0000e+00 - val_loss: nan - val_accuracy: 0.0000e+00\n",
      "Epoch 32/100\n",
      "104/104 [==============================] - 0s 4ms/step - loss: nan - accuracy: 0.0000e+00 - val_loss: nan - val_accuracy: 0.0000e+00\n",
      "Epoch 33/100\n",
      "104/104 [==============================] - 0s 4ms/step - loss: nan - accuracy: 0.0000e+00 - val_loss: nan - val_accuracy: 0.0000e+00\n",
      "Epoch 34/100\n",
      "104/104 [==============================] - 0s 4ms/step - loss: nan - accuracy: 0.0000e+00 - val_loss: nan - val_accuracy: 0.0000e+00\n",
      "Epoch 35/100\n",
      "104/104 [==============================] - 0s 4ms/step - loss: nan - accuracy: 0.0000e+00 - val_loss: nan - val_accuracy: 0.0000e+00\n",
      "Epoch 36/100\n",
      "104/104 [==============================] - 1s 6ms/step - loss: nan - accuracy: 0.0000e+00 - val_loss: nan - val_accuracy: 0.0000e+00\n",
      "Epoch 37/100\n",
      "104/104 [==============================] - 1s 5ms/step - loss: nan - accuracy: 0.0000e+00 - val_loss: nan - val_accuracy: 0.0000e+00\n",
      "Epoch 38/100\n",
      "104/104 [==============================] - 1s 9ms/step - loss: nan - accuracy: 0.0000e+00 - val_loss: nan - val_accuracy: 0.0000e+00\n",
      "Epoch 39/100\n",
      "104/104 [==============================] - 1s 6ms/step - loss: nan - accuracy: 0.0000e+00 - val_loss: nan - val_accuracy: 0.0000e+00\n",
      "Epoch 40/100\n",
      "104/104 [==============================] - 0s 5ms/step - loss: nan - accuracy: 0.0000e+00 - val_loss: nan - val_accuracy: 0.0000e+00\n",
      "Epoch 41/100\n",
      "104/104 [==============================] - 0s 4ms/step - loss: nan - accuracy: 0.0000e+00 - val_loss: nan - val_accuracy: 0.0000e+00\n",
      "Epoch 42/100\n",
      "104/104 [==============================] - 0s 4ms/step - loss: nan - accuracy: 0.0000e+00 - val_loss: nan - val_accuracy: 0.0000e+00\n",
      "Epoch 43/100\n",
      "104/104 [==============================] - 1s 5ms/step - loss: nan - accuracy: 0.0000e+00 - val_loss: nan - val_accuracy: 0.0000e+00\n",
      "Epoch 44/100\n",
      "104/104 [==============================] - 1s 8ms/step - loss: nan - accuracy: 0.0000e+00 - val_loss: nan - val_accuracy: 0.0000e+00\n",
      "Epoch 45/100\n",
      "104/104 [==============================] - 1s 7ms/step - loss: nan - accuracy: 0.0000e+00 - val_loss: nan - val_accuracy: 0.0000e+00\n",
      "Epoch 46/100\n",
      "104/104 [==============================] - 0s 3ms/step - loss: nan - accuracy: 0.0000e+00 - val_loss: nan - val_accuracy: 0.0000e+00\n",
      "Epoch 47/100\n",
      "104/104 [==============================] - 1s 5ms/step - loss: nan - accuracy: 0.0000e+00 - val_loss: nan - val_accuracy: 0.0000e+00\n",
      "Epoch 48/100\n",
      "104/104 [==============================] - 1s 5ms/step - loss: nan - accuracy: 0.0000e+00 - val_loss: nan - val_accuracy: 0.0000e+00\n",
      "Epoch 49/100\n",
      "104/104 [==============================] - 1s 6ms/step - loss: nan - accuracy: 0.0000e+00 - val_loss: nan - val_accuracy: 0.0000e+00\n",
      "Epoch 50/100\n",
      "104/104 [==============================] - 1s 5ms/step - loss: nan - accuracy: 0.0000e+00 - val_loss: nan - val_accuracy: 0.0000e+00\n",
      "Epoch 51/100\n",
      "104/104 [==============================] - 1s 6ms/step - loss: nan - accuracy: 0.0000e+00 - val_loss: nan - val_accuracy: 0.0000e+00\n",
      "Epoch 52/100\n",
      "104/104 [==============================] - 1s 7ms/step - loss: nan - accuracy: 0.0000e+00 - val_loss: nan - val_accuracy: 0.0000e+00\n",
      "Epoch 53/100\n",
      "104/104 [==============================] - 1s 5ms/step - loss: nan - accuracy: 0.0000e+00 - val_loss: nan - val_accuracy: 0.0000e+00\n",
      "Epoch 54/100\n",
      "104/104 [==============================] - 0s 4ms/step - loss: nan - accuracy: 0.0000e+00 - val_loss: nan - val_accuracy: 0.0000e+00\n",
      "Epoch 55/100\n",
      "104/104 [==============================] - 0s 4ms/step - loss: nan - accuracy: 0.0000e+00 - val_loss: nan - val_accuracy: 0.0000e+00\n",
      "Epoch 56/100\n",
      "104/104 [==============================] - 0s 4ms/step - loss: nan - accuracy: 0.0000e+00 - val_loss: nan - val_accuracy: 0.0000e+00\n",
      "Epoch 57/100\n",
      "104/104 [==============================] - 0s 5ms/step - loss: nan - accuracy: 0.0000e+00 - val_loss: nan - val_accuracy: 0.0000e+00\n",
      "Epoch 58/100\n",
      "104/104 [==============================] - 1s 6ms/step - loss: nan - accuracy: 0.0000e+00 - val_loss: nan - val_accuracy: 0.0000e+00\n",
      "Epoch 59/100\n",
      "104/104 [==============================] - 1s 5ms/step - loss: nan - accuracy: 0.0000e+00 - val_loss: nan - val_accuracy: 0.0000e+00\n",
      "Epoch 60/100\n",
      "104/104 [==============================] - 0s 4ms/step - loss: nan - accuracy: 0.0000e+00 - val_loss: nan - val_accuracy: 0.0000e+00\n",
      "Epoch 61/100\n",
      "104/104 [==============================] - 1s 7ms/step - loss: nan - accuracy: 0.0000e+00 - val_loss: nan - val_accuracy: 0.0000e+00\n",
      "Epoch 62/100\n",
      "104/104 [==============================] - 1s 8ms/step - loss: nan - accuracy: 0.0000e+00 - val_loss: nan - val_accuracy: 0.0000e+00\n",
      "Epoch 63/100\n",
      "104/104 [==============================] - 0s 4ms/step - loss: nan - accuracy: 0.0000e+00 - val_loss: nan - val_accuracy: 0.0000e+00\n",
      "Epoch 64/100\n",
      "104/104 [==============================] - 0s 3ms/step - loss: nan - accuracy: 0.0000e+00 - val_loss: nan - val_accuracy: 0.0000e+00\n",
      "Epoch 65/100\n",
      "104/104 [==============================] - 0s 4ms/step - loss: nan - accuracy: 0.0000e+00 - val_loss: nan - val_accuracy: 0.0000e+00\n",
      "Epoch 66/100\n",
      "104/104 [==============================] - 0s 4ms/step - loss: nan - accuracy: 0.0000e+00 - val_loss: nan - val_accuracy: 0.0000e+00\n",
      "Epoch 67/100\n",
      "104/104 [==============================] - 0s 3ms/step - loss: nan - accuracy: 0.0000e+00 - val_loss: nan - val_accuracy: 0.0000e+00\n",
      "Epoch 68/100\n",
      "104/104 [==============================] - 1s 8ms/step - loss: nan - accuracy: 0.0000e+00 - val_loss: nan - val_accuracy: 0.0000e+00\n",
      "Epoch 69/100\n",
      "104/104 [==============================] - 1s 5ms/step - loss: nan - accuracy: 0.0000e+00 - val_loss: nan - val_accuracy: 0.0000e+00\n",
      "Epoch 70/100\n",
      "104/104 [==============================] - 1s 8ms/step - loss: nan - accuracy: 0.0000e+00 - val_loss: nan - val_accuracy: 0.0000e+00\n",
      "Epoch 71/100\n",
      "104/104 [==============================] - 1s 6ms/step - loss: nan - accuracy: 0.0000e+00 - val_loss: nan - val_accuracy: 0.0000e+00\n",
      "Epoch 72/100\n",
      "104/104 [==============================] - 1s 5ms/step - loss: nan - accuracy: 0.0000e+00 - val_loss: nan - val_accuracy: 0.0000e+00\n",
      "Epoch 73/100\n",
      "104/104 [==============================] - 1s 6ms/step - loss: nan - accuracy: 0.0000e+00 - val_loss: nan - val_accuracy: 0.0000e+00\n",
      "Epoch 74/100\n",
      "104/104 [==============================] - 0s 5ms/step - loss: nan - accuracy: 0.0000e+00 - val_loss: nan - val_accuracy: 0.0000e+00\n",
      "Epoch 75/100\n",
      "104/104 [==============================] - 1s 8ms/step - loss: nan - accuracy: 0.0000e+00 - val_loss: nan - val_accuracy: 0.0000e+00\n",
      "Epoch 76/100\n",
      "104/104 [==============================] - 0s 4ms/step - loss: nan - accuracy: 0.0000e+00 - val_loss: nan - val_accuracy: 0.0000e+00\n",
      "Epoch 77/100\n",
      "104/104 [==============================] - 0s 3ms/step - loss: nan - accuracy: 0.0000e+00 - val_loss: nan - val_accuracy: 0.0000e+00\n",
      "Epoch 78/100\n",
      "104/104 [==============================] - 0s 4ms/step - loss: nan - accuracy: 0.0000e+00 - val_loss: nan - val_accuracy: 0.0000e+00\n",
      "Epoch 79/100\n",
      "104/104 [==============================] - 1s 8ms/step - loss: nan - accuracy: 0.0000e+00 - val_loss: nan - val_accuracy: 0.0000e+00\n",
      "Epoch 80/100\n",
      "104/104 [==============================] - 1s 6ms/step - loss: nan - accuracy: 0.0000e+00 - val_loss: nan - val_accuracy: 0.0000e+00\n",
      "Epoch 81/100\n",
      "104/104 [==============================] - 1s 8ms/step - loss: nan - accuracy: 0.0000e+00 - val_loss: nan - val_accuracy: 0.0000e+00\n",
      "Epoch 82/100\n",
      "104/104 [==============================] - 1s 7ms/step - loss: nan - accuracy: 0.0000e+00 - val_loss: nan - val_accuracy: 0.0000e+00\n",
      "Epoch 83/100\n",
      "104/104 [==============================] - 0s 4ms/step - loss: nan - accuracy: 0.0000e+00 - val_loss: nan - val_accuracy: 0.0000e+00\n",
      "Epoch 84/100\n",
      "104/104 [==============================] - 0s 3ms/step - loss: nan - accuracy: 0.0000e+00 - val_loss: nan - val_accuracy: 0.0000e+00\n",
      "Epoch 85/100\n",
      "104/104 [==============================] - 0s 4ms/step - loss: nan - accuracy: 0.0000e+00 - val_loss: nan - val_accuracy: 0.0000e+00\n",
      "Epoch 86/100\n",
      "104/104 [==============================] - 0s 4ms/step - loss: nan - accuracy: 0.0000e+00 - val_loss: nan - val_accuracy: 0.0000e+00\n",
      "Epoch 87/100\n",
      "104/104 [==============================] - 0s 3ms/step - loss: nan - accuracy: 0.0000e+00 - val_loss: nan - val_accuracy: 0.0000e+00\n",
      "Epoch 88/100\n",
      "104/104 [==============================] - 0s 4ms/step - loss: nan - accuracy: 0.0000e+00 - val_loss: nan - val_accuracy: 0.0000e+00\n",
      "Epoch 89/100\n",
      "104/104 [==============================] - 0s 4ms/step - loss: nan - accuracy: 0.0000e+00 - val_loss: nan - val_accuracy: 0.0000e+00\n",
      "Epoch 90/100\n",
      "104/104 [==============================] - 0s 4ms/step - loss: nan - accuracy: 0.0000e+00 - val_loss: nan - val_accuracy: 0.0000e+00\n",
      "Epoch 91/100\n",
      "104/104 [==============================] - 0s 4ms/step - loss: nan - accuracy: 0.0000e+00 - val_loss: nan - val_accuracy: 0.0000e+00\n",
      "Epoch 92/100\n",
      "104/104 [==============================] - 0s 4ms/step - loss: nan - accuracy: 0.0000e+00 - val_loss: nan - val_accuracy: 0.0000e+00\n",
      "Epoch 93/100\n",
      "104/104 [==============================] - 0s 3ms/step - loss: nan - accuracy: 0.0000e+00 - val_loss: nan - val_accuracy: 0.0000e+00\n",
      "Epoch 94/100\n",
      "104/104 [==============================] - 0s 3ms/step - loss: nan - accuracy: 0.0000e+00 - val_loss: nan - val_accuracy: 0.0000e+00\n",
      "Epoch 95/100\n",
      "104/104 [==============================] - 0s 4ms/step - loss: nan - accuracy: 0.0000e+00 - val_loss: nan - val_accuracy: 0.0000e+00\n",
      "Epoch 96/100\n",
      "104/104 [==============================] - 0s 4ms/step - loss: nan - accuracy: 0.0000e+00 - val_loss: nan - val_accuracy: 0.0000e+00\n",
      "Epoch 97/100\n",
      "104/104 [==============================] - 0s 4ms/step - loss: nan - accuracy: 0.0000e+00 - val_loss: nan - val_accuracy: 0.0000e+00\n",
      "Epoch 98/100\n",
      "104/104 [==============================] - 1s 5ms/step - loss: nan - accuracy: 0.0000e+00 - val_loss: nan - val_accuracy: 0.0000e+00\n",
      "Epoch 99/100\n",
      "104/104 [==============================] - 1s 6ms/step - loss: nan - accuracy: 0.0000e+00 - val_loss: nan - val_accuracy: 0.0000e+00\n",
      "Epoch 100/100\n",
      "104/104 [==============================] - 1s 8ms/step - loss: nan - accuracy: 0.0000e+00 - val_loss: nan - val_accuracy: 0.0000e+00\n"
     ]
    }
   ],
   "source": [
    "# Se almacena el historial de entrenamiento\n",
    "\n",
    "hist = model.fit(\n",
    "  X_train, # Datos de entrenamiento\n",
    "  Y_train,\n",
    "  batch_size=32, # Tamaño de mini lote\n",
    "  epochs=100, # Tiempo de entrenamiento: Epocas\n",
    "  validation_data=(X_val, Y_val) # Datos de validación por cada ciclo\n",
    ")"
   ]
  },
  {
   "cell_type": "markdown",
   "metadata": {},
   "source": []
  },
  {
   "cell_type": "markdown",
   "metadata": {},
   "source": [
    "#### Evaluación del modelo"
   ]
  },
  {
   "cell_type": "code",
   "execution_count": 43,
   "metadata": {},
   "outputs": [
    {
     "name": "stdout",
     "output_type": "stream",
     "text": [
      "23/23 [==============================] - 0s 5ms/step - loss: nan - accuracy: 0.0000e+00\n"
     ]
    },
    {
     "data": {
      "text/plain": [
       "0.0"
      ]
     },
     "execution_count": 43,
     "metadata": {},
     "output_type": "execute_result"
    }
   ],
   "source": [
    "# La función devuelve la pérdida como primer elemento y la precisión como segundo elemento. \n",
    "\n",
    "model.evaluate(X_test, Y_test)[1]"
   ]
  },
  {
   "cell_type": "markdown",
   "metadata": {},
   "source": [
    "### Visualización de perdida"
   ]
  },
  {
   "cell_type": "code",
   "execution_count": 44,
   "metadata": {},
   "outputs": [
    {
     "data": {
      "image/png": "[encoded data removed]",
      "text/plain": [
       "<Figure size 640x480 with 1 Axes>"
      ]
     },
     "metadata": {},
     "output_type": "display_data"
    }
   ],
   "source": [
    "# Grafico de perdida\n",
    "\n",
    "plt.plot(hist.history['loss'])\n",
    "plt.plot(hist.history['val_loss'])\n",
    "plt.title('Perdida del modelo')\n",
    "plt.ylabel('Perdida')\n",
    "plt.xlabel('Epoca')\n",
    "plt.legend(['Entrenamiento', 'Validación'], loc='upper right')\n",
    "plt.show()"
   ]
  },
  {
   "cell_type": "markdown",
   "metadata": {},
   "source": [
    "### Visualización de presición"
   ]
  },
  {
   "cell_type": "code",
   "execution_count": 45,
   "metadata": {},
   "outputs": [
    {
     "data": {
      "image/png": "[encoded data removed]",
      "text/plain": [
       "<Figure size 640x480 with 1 Axes>"
      ]
     },
     "metadata": {},
     "output_type": "display_data"
    }
   ],
   "source": [
    "# Grafico de presición\n",
    "\n",
    "plt.plot(hist.history['accuracy'])\n",
    "plt.plot(hist.history['val_accuracy'])\n",
    "plt.title('Precisión del modelo')\n",
    "plt.ylabel('Precisión')\n",
    "plt.xlabel('Epoca')\n",
    "plt.legend(['Entrenamiento', 'Validación'], loc='lower right')\n",
    "plt.show()"
   ]
  },
  {
   "cell_type": "markdown",
   "metadata": {},
   "source": [
    "### Construyendo Red Neuronal LSTM (Long Short Term Memory)"
   ]
  },
  {
   "cell_type": "markdown",
   "metadata": {},
   "source": [
    "#### Creando modelo"
   ]
  },
  {
   "cell_type": "code",
   "execution_count": 46,
   "metadata": {},
   "outputs": [
    {
     "data": {
      "text/plain": [
       "(3309, 7)"
      ]
     },
     "execution_count": 46,
     "metadata": {},
     "output_type": "execute_result"
    }
   ],
   "source": [
    "X_train.shape"
   ]
  },
  {
   "cell_type": "code",
   "execution_count": 47,
   "metadata": {},
   "outputs": [
    {
     "name": "stdout",
     "output_type": "stream",
     "text": [
      "Model: \"sequential_1\"\n",
      "_________________________________________________________________\n",
      " Layer (type)                Output Shape              Param #   \n",
      "=================================================================\n",
      " lstm (LSTM)                 (None, 7, 128)            66560     \n",
      "                                                                 \n",
      " lstm_1 (LSTM)               (None, 64)                49408     \n",
      "                                                                 \n",
      " dense_3 (Dense)             (None, 25)                1625      \n",
      "                                                                 \n",
      " dense_4 (Dense)             (None, 1)                 26        \n",
      "                                                                 \n",
      "=================================================================\n",
      "Total params: 117619 (459.45 KB)\n",
      "Trainable params: 117619 (459.45 KB)\n",
      "Non-trainable params: 0 (0.00 Byte)\n",
      "_________________________________________________________________\n"
     ]
    }
   ],
   "source": [
    "modelLSTM = Sequential()\n",
    "modelLSTM.add(LSTM(128, return_sequences=True, \n",
    "               input_shape= (X_train.shape[1], 1)))\n",
    "modelLSTM.add(LSTM(64, return_sequences=False))\n",
    "modelLSTM.add(Dense(25))\n",
    "modelLSTM.add(Dense(1))\n",
    "modelLSTM.summary()"
   ]
  },
  {
   "cell_type": "markdown",
   "metadata": {},
   "source": [
    "#### Entrenando modelo"
   ]
  },
  {
   "cell_type": "code",
   "execution_count": 48,
   "metadata": {},
   "outputs": [
    {
     "name": "stdout",
     "output_type": "stream",
     "text": [
      "Epoch 1/10\n",
      "331/331 [==============================] - 17s 26ms/step - loss: 1.0366 - accuracy: 0.0000e+00 - val_loss: 0.6544 - val_accuracy: 0.0000e+00\n",
      "Epoch 2/10\n",
      "331/331 [==============================] - 6s 18ms/step - loss: 1.0618 - accuracy: 0.0000e+00 - val_loss: 0.2359 - val_accuracy: 0.0000e+00\n",
      "Epoch 3/10\n",
      "331/331 [==============================] - 5s 15ms/step - loss: 0.9750 - accuracy: 0.0000e+00 - val_loss: 0.2263 - val_accuracy: 0.0000e+00\n",
      "Epoch 4/10\n",
      "331/331 [==============================] - 5s 16ms/step - loss: 0.9634 - accuracy: 0.0000e+00 - val_loss: 0.2000 - val_accuracy: 0.0000e+00\n",
      "Epoch 5/10\n",
      "331/331 [==============================] - 8s 25ms/step - loss: 0.9466 - accuracy: 0.0000e+00 - val_loss: 0.1726 - val_accuracy: 0.0000e+00\n",
      "Epoch 6/10\n",
      "331/331 [==============================] - 7s 22ms/step - loss: 0.9225 - accuracy: 0.0000e+00 - val_loss: 0.2084 - val_accuracy: 0.0000e+00\n",
      "Epoch 7/10\n",
      "331/331 [==============================] - 7s 22ms/step - loss: 0.9193 - accuracy: 0.0000e+00 - val_loss: 0.1615 - val_accuracy: 0.0000e+00\n",
      "Epoch 8/10\n",
      "331/331 [==============================] - 5s 15ms/step - loss: 0.9126 - accuracy: 0.0000e+00 - val_loss: 0.1555 - val_accuracy: 0.0000e+00\n",
      "Epoch 9/10\n",
      "331/331 [==============================] - 5s 16ms/step - loss: 0.9074 - accuracy: 0.0000e+00 - val_loss: 0.1566 - val_accuracy: 0.0000e+00\n",
      "Epoch 10/10\n",
      "331/331 [==============================] - 7s 22ms/step - loss: 0.8950 - accuracy: 0.0000e+00 - val_loss: 0.1590 - val_accuracy: 0.0000e+00\n"
     ]
    }
   ],
   "source": [
    "modelLSTM.compile(optimizer='adam', loss='mean_squared_error', metrics=[\"accuracy\"])\n",
    "histLSTM = modelLSTM.fit(X_train, Y_train, batch_size=10, epochs=10, validation_data=(X_val, Y_val))"
   ]
  },
  {
   "cell_type": "markdown",
   "metadata": {},
   "source": [
    "#### Evaluando el modelo"
   ]
  },
  {
   "cell_type": "code",
   "execution_count": 49,
   "metadata": {},
   "outputs": [
    {
     "name": "stdout",
     "output_type": "stream",
     "text": [
      "23/23 [==============================] - 0s 9ms/step - loss: 0.1521 - accuracy: 0.0000e+00\n"
     ]
    },
    {
     "data": {
      "text/plain": [
       "0.0"
      ]
     },
     "execution_count": 49,
     "metadata": {},
     "output_type": "execute_result"
    }
   ],
   "source": [
    "# La función devuelve la pérdida como primer elemento y la precisión como segundo elemento. \n",
    "\n",
    "modelLSTM.evaluate(X_test, Y_test)[1]"
   ]
  },
  {
   "cell_type": "markdown",
   "metadata": {},
   "source": [
    "#### Visualizando la perdida"
   ]
  },
  {
   "cell_type": "code",
   "execution_count": 50,
   "metadata": {},
   "outputs": [
    {
     "data": {
      "image/png": "[encoded data removed]",
      "text/plain": [
       "<Figure size 640x480 with 1 Axes>"
      ]
     },
     "metadata": {},
     "output_type": "display_data"
    }
   ],
   "source": [
    "# Grafico de perdida\n",
    "\n",
    "plt.plot(histLSTM.history['loss'])\n",
    "plt.plot(histLSTM.history['val_loss'])\n",
    "plt.title('Perdida del modelo')\n",
    "plt.ylabel('Perdida')\n",
    "plt.xlabel('Epoca')\n",
    "plt.legend(['Entrenamiento', 'Validación'], loc='upper right')\n",
    "plt.show()"
   ]
  },
  {
   "cell_type": "markdown",
   "metadata": {},
   "source": [
    "##### Visualizando la precisión"
   ]
  },
  {
   "cell_type": "code",
   "execution_count": 51,
   "metadata": {},
   "outputs": [
    {
     "data": {
      "image/png": "[encoded data removed]",
      "text/plain": [
       "<Figure size 640x480 with 1 Axes>"
      ]
     },
     "metadata": {},
     "output_type": "display_data"
    }
   ],
   "source": [
    "# Grafico de presición\n",
    "\n",
    "plt.plot(histLSTM.history['accuracy'])\n",
    "plt.plot(histLSTM.history['val_accuracy'])\n",
    "plt.title('Precisión del modelo')\n",
    "plt.ylabel('Precisión')\n",
    "plt.xlabel('Epoca')\n",
    "plt.legend(['Entrenamiento', 'Validación'], loc='lower right')\n",
    "plt.show()"
   ]
  },
  {
   "cell_type": "markdown",
   "metadata": {},
   "source": [
    "## Probando modelo"
   ]
  },
  {
   "cell_type": "code",
   "execution_count": null,
   "metadata": {},
   "outputs": [],
   "source": [
    "print(\"Enter House Details to Predict Rent\")\n",
    "print(\"BHK = Bedrooms, Hall, and Kitchen\\n\")\n",
    "a = int(input(\"Number of BHK (1 -- 6): \"))\n",
    "b = int(input(\"Size of the House (10 -- 8000): \"))\n",
    "c = int(input(\"Area Type (Super Area = 1, Carpet Area = 2, Built Area = 3): \"))\n",
    "d = int(input(\"Floor (1 -- 6): \"))\n",
    "e = int(input(\"Furnishing Status of the House: \"))\n",
    "f = int(input(\"Number of bathrooms (1 -- 10): \"))\n",
    "features = np.array([[a, b, c, d, e, f]])\n",
    "print(\"Predicted House Price = \", modelLSTM.predict(features))"
   ]
  },
  {
   "cell_type": "markdown",
   "metadata": {},
   "source": []
  }
 ],
 "metadata": {
  "kernelspec": {
   "display_name": "Python 3",
   "language": "python",
   "name": "python3"
  },
  "language_info": {
   "codemirror_mode": {
    "name": "ipython",
    "version": 3
   },
   "file_extension": ".py",
   "mimetype": "text/x-python",
   "name": "python",
   "nbconvert_exporter": "python",
   "pygments_lexer": "ipython3",
   "version": "3.11.4"
  }
 },
 "nbformat": 4,
 "nbformat_minor": 2
}
